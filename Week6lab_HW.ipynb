{
  "nbformat": 4,
  "nbformat_minor": 0,
  "metadata": {
    "colab": {
      "provenance": [],
      "include_colab_link": true
    },
    "kernelspec": {
      "name": "python3",
      "display_name": "Python 3"
    },
    "language_info": {
      "name": "python"
    }
  },
  "cells": [
    {
      "cell_type": "markdown",
      "metadata": {
        "id": "view-in-github",
        "colab_type": "text"
      },
      "source": [
        "<a href=\"https://colab.research.google.com/github/j-rachel/E11_Abraham_Rachel/blob/main/Week6lab_HW.ipynb\" target=\"_parent\"><img src=\"https://colab.research.google.com/assets/colab-badge.svg\" alt=\"Open In Colab\"/></a>"
      ]
    },
    {
      "cell_type": "code",
      "execution_count": null,
      "metadata": {
        "id": "f-S_fBrR5WTd"
      },
      "outputs": [],
      "source": [
        "import pandas as pd\n",
        "import matplotlib.pyplot as plt\n",
        "import numpy as np\n",
        "from scipy.stats import norm\n",
        "import math"
      ]
    },
    {
      "cell_type": "code",
      "source": [
        "# /Users/quickaccess/Downloads/newdata.csv\n",
        "data_file = 'newdata.csv'\n",
        "Indoor_data = pd.read_csv(data_file)\n",
        "Indoor_data"
      ],
      "metadata": {
        "colab": {
          "base_uri": "https://localhost:8080/",
          "height": 423
        },
        "id": "bINBElR36woQ",
        "outputId": "2158eb42-134f-4fed-cd44-b67b2f641a32"
      },
      "execution_count": null,
      "outputs": [
        {
          "output_type": "execute_result",
          "data": {
            "text/plain": [
              "           time  PM1.0  PM2.5  PM10  temperature    gas  relative humility  \\\n",
              "0    1676678401      0      1     1    22.270430  53300          17.480113   \n",
              "1    1676678402      0      1     1    22.289961   8814          17.461657   \n",
              "2    1676678403      0      1     1    22.331563  12131          17.439481   \n",
              "3    1676678404      0      2     2    22.373359  14024          17.397853   \n",
              "4    1676678406      0      2     2    22.409492  15261          17.351075   \n",
              "..          ...    ...    ...   ...          ...    ...                ...   \n",
              "246  1676678695      0      0     0    22.892695  51498          16.502823   \n",
              "247  1676678696      0      0     0    22.893477  51530          16.507695   \n",
              "248  1676678697      0      0     0    22.894258  51881          16.502900   \n",
              "249  1676678698      0      0     0    22.893477  51784          16.493196   \n",
              "250  1676678700      0      0     0    22.893672  51784          16.478708   \n",
              "\n",
              "        pressure   altitude  \n",
              "0    1006.660851  55.004166  \n",
              "1    1006.665237  54.967460  \n",
              "2    1006.676430  54.873773  \n",
              "3    1006.681058  54.835043  \n",
              "4    1006.695347  54.715447  \n",
              "..           ...        ...  \n",
              "246  1006.691029  54.751588  \n",
              "247  1006.695746  54.712107  \n",
              "248  1006.698742  54.687032  \n",
              "249  1006.695746  54.712107  \n",
              "250  1006.694344  54.723844  \n",
              "\n",
              "[251 rows x 9 columns]"
            ],
            "text/html": [
              "\n",
              "  <div id=\"df-5e820414-2538-40ff-b0f0-e24356d46002\">\n",
              "    <div class=\"colab-df-container\">\n",
              "      <div>\n",
              "<style scoped>\n",
              "    .dataframe tbody tr th:only-of-type {\n",
              "        vertical-align: middle;\n",
              "    }\n",
              "\n",
              "    .dataframe tbody tr th {\n",
              "        vertical-align: top;\n",
              "    }\n",
              "\n",
              "    .dataframe thead th {\n",
              "        text-align: right;\n",
              "    }\n",
              "</style>\n",
              "<table border=\"1\" class=\"dataframe\">\n",
              "  <thead>\n",
              "    <tr style=\"text-align: right;\">\n",
              "      <th></th>\n",
              "      <th>time</th>\n",
              "      <th>PM1.0</th>\n",
              "      <th>PM2.5</th>\n",
              "      <th>PM10</th>\n",
              "      <th>temperature</th>\n",
              "      <th>gas</th>\n",
              "      <th>relative humility</th>\n",
              "      <th>pressure</th>\n",
              "      <th>altitude</th>\n",
              "    </tr>\n",
              "  </thead>\n",
              "  <tbody>\n",
              "    <tr>\n",
              "      <th>0</th>\n",
              "      <td>1676678401</td>\n",
              "      <td>0</td>\n",
              "      <td>1</td>\n",
              "      <td>1</td>\n",
              "      <td>22.270430</td>\n",
              "      <td>53300</td>\n",
              "      <td>17.480113</td>\n",
              "      <td>1006.660851</td>\n",
              "      <td>55.004166</td>\n",
              "    </tr>\n",
              "    <tr>\n",
              "      <th>1</th>\n",
              "      <td>1676678402</td>\n",
              "      <td>0</td>\n",
              "      <td>1</td>\n",
              "      <td>1</td>\n",
              "      <td>22.289961</td>\n",
              "      <td>8814</td>\n",
              "      <td>17.461657</td>\n",
              "      <td>1006.665237</td>\n",
              "      <td>54.967460</td>\n",
              "    </tr>\n",
              "    <tr>\n",
              "      <th>2</th>\n",
              "      <td>1676678403</td>\n",
              "      <td>0</td>\n",
              "      <td>1</td>\n",
              "      <td>1</td>\n",
              "      <td>22.331563</td>\n",
              "      <td>12131</td>\n",
              "      <td>17.439481</td>\n",
              "      <td>1006.676430</td>\n",
              "      <td>54.873773</td>\n",
              "    </tr>\n",
              "    <tr>\n",
              "      <th>3</th>\n",
              "      <td>1676678404</td>\n",
              "      <td>0</td>\n",
              "      <td>2</td>\n",
              "      <td>2</td>\n",
              "      <td>22.373359</td>\n",
              "      <td>14024</td>\n",
              "      <td>17.397853</td>\n",
              "      <td>1006.681058</td>\n",
              "      <td>54.835043</td>\n",
              "    </tr>\n",
              "    <tr>\n",
              "      <th>4</th>\n",
              "      <td>1676678406</td>\n",
              "      <td>0</td>\n",
              "      <td>2</td>\n",
              "      <td>2</td>\n",
              "      <td>22.409492</td>\n",
              "      <td>15261</td>\n",
              "      <td>17.351075</td>\n",
              "      <td>1006.695347</td>\n",
              "      <td>54.715447</td>\n",
              "    </tr>\n",
              "    <tr>\n",
              "      <th>...</th>\n",
              "      <td>...</td>\n",
              "      <td>...</td>\n",
              "      <td>...</td>\n",
              "      <td>...</td>\n",
              "      <td>...</td>\n",
              "      <td>...</td>\n",
              "      <td>...</td>\n",
              "      <td>...</td>\n",
              "      <td>...</td>\n",
              "    </tr>\n",
              "    <tr>\n",
              "      <th>246</th>\n",
              "      <td>1676678695</td>\n",
              "      <td>0</td>\n",
              "      <td>0</td>\n",
              "      <td>0</td>\n",
              "      <td>22.892695</td>\n",
              "      <td>51498</td>\n",
              "      <td>16.502823</td>\n",
              "      <td>1006.691029</td>\n",
              "      <td>54.751588</td>\n",
              "    </tr>\n",
              "    <tr>\n",
              "      <th>247</th>\n",
              "      <td>1676678696</td>\n",
              "      <td>0</td>\n",
              "      <td>0</td>\n",
              "      <td>0</td>\n",
              "      <td>22.893477</td>\n",
              "      <td>51530</td>\n",
              "      <td>16.507695</td>\n",
              "      <td>1006.695746</td>\n",
              "      <td>54.712107</td>\n",
              "    </tr>\n",
              "    <tr>\n",
              "      <th>248</th>\n",
              "      <td>1676678697</td>\n",
              "      <td>0</td>\n",
              "      <td>0</td>\n",
              "      <td>0</td>\n",
              "      <td>22.894258</td>\n",
              "      <td>51881</td>\n",
              "      <td>16.502900</td>\n",
              "      <td>1006.698742</td>\n",
              "      <td>54.687032</td>\n",
              "    </tr>\n",
              "    <tr>\n",
              "      <th>249</th>\n",
              "      <td>1676678698</td>\n",
              "      <td>0</td>\n",
              "      <td>0</td>\n",
              "      <td>0</td>\n",
              "      <td>22.893477</td>\n",
              "      <td>51784</td>\n",
              "      <td>16.493196</td>\n",
              "      <td>1006.695746</td>\n",
              "      <td>54.712107</td>\n",
              "    </tr>\n",
              "    <tr>\n",
              "      <th>250</th>\n",
              "      <td>1676678700</td>\n",
              "      <td>0</td>\n",
              "      <td>0</td>\n",
              "      <td>0</td>\n",
              "      <td>22.893672</td>\n",
              "      <td>51784</td>\n",
              "      <td>16.478708</td>\n",
              "      <td>1006.694344</td>\n",
              "      <td>54.723844</td>\n",
              "    </tr>\n",
              "  </tbody>\n",
              "</table>\n",
              "<p>251 rows × 9 columns</p>\n",
              "</div>\n",
              "      <button class=\"colab-df-convert\" onclick=\"convertToInteractive('df-5e820414-2538-40ff-b0f0-e24356d46002')\"\n",
              "              title=\"Convert this dataframe to an interactive table.\"\n",
              "              style=\"display:none;\">\n",
              "        \n",
              "  <svg xmlns=\"http://www.w3.org/2000/svg\" height=\"24px\"viewBox=\"0 0 24 24\"\n",
              "       width=\"24px\">\n",
              "    <path d=\"M0 0h24v24H0V0z\" fill=\"none\"/>\n",
              "    <path d=\"M18.56 5.44l.94 2.06.94-2.06 2.06-.94-2.06-.94-.94-2.06-.94 2.06-2.06.94zm-11 1L8.5 8.5l.94-2.06 2.06-.94-2.06-.94L8.5 2.5l-.94 2.06-2.06.94zm10 10l.94 2.06.94-2.06 2.06-.94-2.06-.94-.94-2.06-.94 2.06-2.06.94z\"/><path d=\"M17.41 7.96l-1.37-1.37c-.4-.4-.92-.59-1.43-.59-.52 0-1.04.2-1.43.59L10.3 9.45l-7.72 7.72c-.78.78-.78 2.05 0 2.83L4 21.41c.39.39.9.59 1.41.59.51 0 1.02-.2 1.41-.59l7.78-7.78 2.81-2.81c.8-.78.8-2.07 0-2.86zM5.41 20L4 18.59l7.72-7.72 1.47 1.35L5.41 20z\"/>\n",
              "  </svg>\n",
              "      </button>\n",
              "      \n",
              "  <style>\n",
              "    .colab-df-container {\n",
              "      display:flex;\n",
              "      flex-wrap:wrap;\n",
              "      gap: 12px;\n",
              "    }\n",
              "\n",
              "    .colab-df-convert {\n",
              "      background-color: #E8F0FE;\n",
              "      border: none;\n",
              "      border-radius: 50%;\n",
              "      cursor: pointer;\n",
              "      display: none;\n",
              "      fill: #1967D2;\n",
              "      height: 32px;\n",
              "      padding: 0 0 0 0;\n",
              "      width: 32px;\n",
              "    }\n",
              "\n",
              "    .colab-df-convert:hover {\n",
              "      background-color: #E2EBFA;\n",
              "      box-shadow: 0px 1px 2px rgba(60, 64, 67, 0.3), 0px 1px 3px 1px rgba(60, 64, 67, 0.15);\n",
              "      fill: #174EA6;\n",
              "    }\n",
              "\n",
              "    [theme=dark] .colab-df-convert {\n",
              "      background-color: #3B4455;\n",
              "      fill: #D2E3FC;\n",
              "    }\n",
              "\n",
              "    [theme=dark] .colab-df-convert:hover {\n",
              "      background-color: #434B5C;\n",
              "      box-shadow: 0px 1px 3px 1px rgba(0, 0, 0, 0.15);\n",
              "      filter: drop-shadow(0px 1px 2px rgba(0, 0, 0, 0.3));\n",
              "      fill: #FFFFFF;\n",
              "    }\n",
              "  </style>\n",
              "\n",
              "      <script>\n",
              "        const buttonEl =\n",
              "          document.querySelector('#df-5e820414-2538-40ff-b0f0-e24356d46002 button.colab-df-convert');\n",
              "        buttonEl.style.display =\n",
              "          google.colab.kernel.accessAllowed ? 'block' : 'none';\n",
              "\n",
              "        async function convertToInteractive(key) {\n",
              "          const element = document.querySelector('#df-5e820414-2538-40ff-b0f0-e24356d46002');\n",
              "          const dataTable =\n",
              "            await google.colab.kernel.invokeFunction('convertToInteractive',\n",
              "                                                     [key], {});\n",
              "          if (!dataTable) return;\n",
              "\n",
              "          const docLinkHtml = 'Like what you see? Visit the ' +\n",
              "            '<a target=\"_blank\" href=https://colab.research.google.com/notebooks/data_table.ipynb>data table notebook</a>'\n",
              "            + ' to learn more about interactive tables.';\n",
              "          element.innerHTML = '';\n",
              "          dataTable['output_type'] = 'display_data';\n",
              "          await google.colab.output.renderOutput(dataTable, element);\n",
              "          const docLink = document.createElement('div');\n",
              "          docLink.innerHTML = docLinkHtml;\n",
              "          element.appendChild(docLink);\n",
              "        }\n",
              "      </script>\n",
              "    </div>\n",
              "  </div>\n",
              "  "
            ]
          },
          "metadata": {},
          "execution_count": 50
        }
      ]
    },
    {
      "cell_type": "code",
      "source": [
        "plt.ion()\n",
        "fig1 = plt.figure(1, figsize = (10,5))\n",
        "ax1 = fig1.add_subplot()\n",
        "fig1.canvas.draw()\n",
        "\n",
        "mu_relhum = np.mean(Indoor_data['relative humility'])\n",
        "sigma_relhum = np.std(Indoor_data['relative humility'])\n",
        "x_relhum = np.linspace(mu_relhum - 5*sigma_relhum, mu_relhum + 5*sigma_relhum, 1000)\n",
        "y_relhum = norm.pdf(x_relhum, mu_relhum, sigma_relhum)\n",
        "\n",
        "ax1.plot(x_relhum,y_relhum)\n",
        "ax1.hist(Indoor_data['relative humility'], bins = 42, density = True)\n",
        "ax1.set_ylabel('Frequency')\n",
        "ax1.set_xlabel('Relative Humidity')"
      ],
      "metadata": {
        "id": "Z0dVojM9VBs4",
        "colab": {
          "base_uri": "https://localhost:8080/",
          "height": 352
        },
        "outputId": "83b9470a-9f22-4b5f-ddbd-65cb190abbaf"
      },
      "execution_count": null,
      "outputs": [
        {
          "output_type": "execute_result",
          "data": {
            "text/plain": [
              "Text(0.5, 24.0, 'Relative Humidity')"
            ]
          },
          "metadata": {},
          "execution_count": 51
        },
        {
          "output_type": "display_data",
          "data": {
            "text/plain": [
              "<Figure size 720x360 with 1 Axes>"
            ],
            "image/png": "[encoded data removed]"
          },
          "metadata": {
            "needs_background": "light"
          }
        }
      ]
    },
    {
      "cell_type": "code",
      "source": [
        "plt.ion()\n",
        "fig1 = plt.figure(1, figsize = (10,5))\n",
        "ax1 = fig1.add_subplot()\n",
        "fig1.canvas.draw()\n",
        "\n",
        "mu_temp = np.mean(Indoor_data['temperature'])\n",
        "sigma_temp = np.std(Indoor_data['temperature'])\n",
        "x_temp = np.linspace(mu_temp - 5*sigma_temp, mu_temp + 5*sigma_temp, 1000)\n",
        "y_temp = norm.pdf(x_temp, mu_temp, sigma_temp)\n",
        "\n",
        "ax1.plot(x_temp,y_temp)\n",
        "ax1.hist(Indoor_data['temperature'], bins = 60, density = True)\n",
        "ax1.set_ylabel('Frequency')\n",
        "ax1.set_xlabel('Temperature')"
      ],
      "metadata": {
        "id": "z2ZGPQt7VBwY",
        "colab": {
          "base_uri": "https://localhost:8080/",
          "height": 352
        },
        "outputId": "ef18ea9a-6bf8-4b43-9d99-8ab07d6add6c"
      },
      "execution_count": null,
      "outputs": [
        {
          "output_type": "execute_result",
          "data": {
            "text/plain": [
              "Text(0.5, 24.0, 'Temperature')"
            ]
          },
          "metadata": {},
          "execution_count": 52
        },
        {
          "output_type": "display_data",
          "data": {
            "text/plain": [
              "<Figure size 720x360 with 1 Axes>"
            ],
            "image/png": "[encoded data removed]"
          },
          "metadata": {
            "needs_background": "light"
          }
        }
      ]
    },
    {
      "cell_type": "code",
      "source": [
        "plt.ion()\n",
        "fig1 = plt.figure(1, figsize = (10,5))\n",
        "ax1 = fig1.add_subplot()\n",
        "fig1.canvas.draw()\n",
        "\n",
        "mu_pres = np.mean(Indoor_data['pressure'])\n",
        "sigma_pres = np.std(Indoor_data['pressure'])\n",
        "x_pres = np.linspace(mu_pres - 5*sigma_pres, mu_pres + 5*sigma_pres, 1000)\n",
        "y_pres = norm.pdf(x_pres, mu_pres, sigma_pres)\n",
        "\n",
        "ax1.plot(x_pres,y_pres)\n",
        "ax1.hist(Indoor_data['pressure'], bins = 52, density = True)\n",
        "ax1.set_ylabel('Frequency')\n",
        "ax1.set_xlabel('Pressure')"
      ],
      "metadata": {
        "id": "TwIT3K6ucx_r",
        "colab": {
          "base_uri": "https://localhost:8080/",
          "height": 352
        },
        "outputId": "cb0192fc-45c0-42a7-cd28-14261dd7e2e9"
      },
      "execution_count": null,
      "outputs": [
        {
          "output_type": "execute_result",
          "data": {
            "text/plain": [
              "Text(0.5, 24.0, 'Pressure')"
            ]
          },
          "metadata": {},
          "execution_count": 53
        },
        {
          "output_type": "display_data",
          "data": {
            "text/plain": [
              "<Figure size 720x360 with 1 Axes>"
            ],
            "image/png": "[encoded data removed]"
          },
          "metadata": {
            "needs_background": "light"
          }
        }
      ]
    },
    {
      "cell_type": "code",
      "source": [
        "plt.ion()\n",
        "fig1 = plt.figure(1, figsize = (10,5))\n",
        "ax1 = fig1.add_subplot()\n",
        "fig1.canvas.draw()\n",
        "\n",
        "mu_alt = np.mean(Indoor_data['altitude'])\n",
        "sigma_alt = np.std(Indoor_data['altitude'])\n",
        "x_alt = np.linspace(mu_alt - 5*sigma_alt, mu_alt + 5*sigma_alt, 1000)\n",
        "y_alt = norm.pdf(x_alt, mu_alt, sigma_alt)\n",
        "\n",
        "ax1.plot(x_alt,y_alt)\n",
        "ax1.hist(Indoor_data['altitude'], bins = 54, density = True)\n",
        "ax1.set_ylabel('Frequency')\n",
        "ax1.set_xlabel('Altitude')"
      ],
      "metadata": {
        "id": "mf09QiwucyBw",
        "colab": {
          "base_uri": "https://localhost:8080/",
          "height": 352
        },
        "outputId": "6c70d656-23b0-4df1-8edd-5b47a00f32b9"
      },
      "execution_count": null,
      "outputs": [
        {
          "output_type": "execute_result",
          "data": {
            "text/plain": [
              "Text(0.5, 24.0, 'Altitude')"
            ]
          },
          "metadata": {},
          "execution_count": 54
        },
        {
          "output_type": "display_data",
          "data": {
            "text/plain": [
              "<Figure size 720x360 with 1 Axes>"
            ],
            "image/png": "[encoded data removed]"
          },
          "metadata": {
            "needs_background": "light"
          }
        }
      ]
    },
    {
      "cell_type": "code",
      "source": [
        "plt.ion()\n",
        "fig1 = plt.figure(1, figsize = (10,5))\n",
        "ax1 = fig1.add_subplot()\n",
        "fig1.canvas.draw()\n",
        "\n",
        "mu_ga = np.mean(Indoor_data['gas'])\n",
        "sigma_ga = np.std(Indoor_data['gas'])\n",
        "x_ga = np.linspace(mu_ga - 5*sigma_ga, mu_ga + 5*sigma_ga, 1000)\n",
        "y_ga = norm.pdf(x_ga, mu_ga, sigma_ga)\n",
        "\n",
        "ax1.plot(x_ga,y_ga)\n",
        "ax1.hist(Indoor_data['gas'], bins = 42, density = True)\n",
        "ax1.set_ylabel('Frequency')\n",
        "ax1.set_xlabel('Gas')"
      ],
      "metadata": {
        "id": "rnklX52YcyFJ",
        "colab": {
          "base_uri": "https://localhost:8080/",
          "height": 363
        },
        "outputId": "40fcb7dd-ea04-4dec-d8eb-287b61ed2aad"
      },
      "execution_count": null,
      "outputs": [
        {
          "output_type": "execute_result",
          "data": {
            "text/plain": [
              "Text(0.5, 24.0, 'Gas')"
            ]
          },
          "metadata": {},
          "execution_count": 55
        },
        {
          "output_type": "display_data",
          "data": {
            "text/plain": [
              "<Figure size 720x360 with 1 Axes>"
            ],
            "image/png": "[encoded data removed]"
          },
          "metadata": {
            "needs_background": "light"
          }
        }
      ]
    },
    {
      "cell_type": "code",
      "source": [
        "# /Users/quickaccess/Downloads/outdoordata.txt\n",
        "data_file2 = 'outdoordata.txt'\n",
        "Outdoor_data = pd.read_csv(data_file2)\n",
        "Outdoor_data"
      ],
      "metadata": {
        "id": "s0Oq66-YASN_",
        "colab": {
          "base_uri": "https://localhost:8080/",
          "height": 423
        },
        "outputId": "08fd72c8-e8ea-49df-cecb-e2e9050a3f13"
      },
      "execution_count": null,
      "outputs": [
        {
          "output_type": "execute_result",
          "data": {
            "text/plain": [
              "           time  PM1.0  PM2.5  PM10  temperature    gas  relative humility  \\\n",
              "0    1677279433      0      0     0    20.483906   9368          34.574447   \n",
              "1    1677279434      0      0     0    20.502070   1252          34.537411   \n",
              "2    1677279435      0      0     0    20.539375   2026          34.463450   \n",
              "3    1677279437      0      0     0    20.577852   2793          34.362009   \n",
              "4    1677279438      0      0     0    20.613008   3644          34.249285   \n",
              "..          ...    ...    ...   ...          ...    ...                ...   \n",
              "247  1677279728      7     12    12    11.316914  66191          45.036974   \n",
              "248  1677279729      7     12    12    11.297969  66401          45.040857   \n",
              "249  1677279730      7     11    11    11.282539  66401          45.243854   \n",
              "250  1677279731      7     11    11    11.268086  66771          44.979361   \n",
              "251  1677279733      7     11    11    11.254219  66506          44.942896   \n",
              "\n",
              "       pressure    altitude  \n",
              "0    996.276691  142.282562  \n",
              "1    996.276977  142.280151  \n",
              "2    996.272269  142.319891  \n",
              "3    996.279738  142.256845  \n",
              "4    996.285253  142.210301  \n",
              "..          ...         ...  \n",
              "247  995.944726  145.084846  \n",
              "248  995.949213  145.046965  \n",
              "249  995.935793  145.160265  \n",
              "250  995.949318  145.046077  \n",
              "251  995.970559  144.866744  \n",
              "\n",
              "[252 rows x 9 columns]"
            ],
            "text/html": [
              "\n",
              "  <div id=\"df-1c2f3390-e440-4773-9ce8-136b483f9a20\">\n",
              "    <div class=\"colab-df-container\">\n",
              "      <div>\n",
              "<style scoped>\n",
              "    .dataframe tbody tr th:only-of-type {\n",
              "        vertical-align: middle;\n",
              "    }\n",
              "\n",
              "    .dataframe tbody tr th {\n",
              "        vertical-align: top;\n",
              "    }\n",
              "\n",
              "    .dataframe thead th {\n",
              "        text-align: right;\n",
              "    }\n",
              "</style>\n",
              "<table border=\"1\" class=\"dataframe\">\n",
              "  <thead>\n",
              "    <tr style=\"text-align: right;\">\n",
              "      <th></th>\n",
              "      <th>time</th>\n",
              "      <th>PM1.0</th>\n",
              "      <th>PM2.5</th>\n",
              "      <th>PM10</th>\n",
              "      <th>temperature</th>\n",
              "      <th>gas</th>\n",
              "      <th>relative humility</th>\n",
              "      <th>pressure</th>\n",
              "      <th>altitude</th>\n",
              "    </tr>\n",
              "  </thead>\n",
              "  <tbody>\n",
              "    <tr>\n",
              "      <th>0</th>\n",
              "      <td>1677279433</td>\n",
              "      <td>0</td>\n",
              "      <td>0</td>\n",
              "      <td>0</td>\n",
              "      <td>20.483906</td>\n",
              "      <td>9368</td>\n",
              "      <td>34.574447</td>\n",
              "      <td>996.276691</td>\n",
              "      <td>142.282562</td>\n",
              "    </tr>\n",
              "    <tr>\n",
              "      <th>1</th>\n",
              "      <td>1677279434</td>\n",
              "      <td>0</td>\n",
              "      <td>0</td>\n",
              "      <td>0</td>\n",
              "      <td>20.502070</td>\n",
              "      <td>1252</td>\n",
              "      <td>34.537411</td>\n",
              "      <td>996.276977</td>\n",
              "      <td>142.280151</td>\n",
              "    </tr>\n",
              "    <tr>\n",
              "      <th>2</th>\n",
              "      <td>1677279435</td>\n",
              "      <td>0</td>\n",
              "      <td>0</td>\n",
              "      <td>0</td>\n",
              "      <td>20.539375</td>\n",
              "      <td>2026</td>\n",
              "      <td>34.463450</td>\n",
              "      <td>996.272269</td>\n",
              "      <td>142.319891</td>\n",
              "    </tr>\n",
              "    <tr>\n",
              "      <th>3</th>\n",
              "      <td>1677279437</td>\n",
              "      <td>0</td>\n",
              "      <td>0</td>\n",
              "      <td>0</td>\n",
              "      <td>20.577852</td>\n",
              "      <td>2793</td>\n",
              "      <td>34.362009</td>\n",
              "      <td>996.279738</td>\n",
              "      <td>142.256845</td>\n",
              "    </tr>\n",
              "    <tr>\n",
              "      <th>4</th>\n",
              "      <td>1677279438</td>\n",
              "      <td>0</td>\n",
              "      <td>0</td>\n",
              "      <td>0</td>\n",
              "      <td>20.613008</td>\n",
              "      <td>3644</td>\n",
              "      <td>34.249285</td>\n",
              "      <td>996.285253</td>\n",
              "      <td>142.210301</td>\n",
              "    </tr>\n",
              "    <tr>\n",
              "      <th>...</th>\n",
              "      <td>...</td>\n",
              "      <td>...</td>\n",
              "      <td>...</td>\n",
              "      <td>...</td>\n",
              "      <td>...</td>\n",
              "      <td>...</td>\n",
              "      <td>...</td>\n",
              "      <td>...</td>\n",
              "      <td>...</td>\n",
              "    </tr>\n",
              "    <tr>\n",
              "      <th>247</th>\n",
              "      <td>1677279728</td>\n",
              "      <td>7</td>\n",
              "      <td>12</td>\n",
              "      <td>12</td>\n",
              "      <td>11.316914</td>\n",
              "      <td>66191</td>\n",
              "      <td>45.036974</td>\n",
              "      <td>995.944726</td>\n",
              "      <td>145.084846</td>\n",
              "    </tr>\n",
              "    <tr>\n",
              "      <th>248</th>\n",
              "      <td>1677279729</td>\n",
              "      <td>7</td>\n",
              "      <td>12</td>\n",
              "      <td>12</td>\n",
              "      <td>11.297969</td>\n",
              "      <td>66401</td>\n",
              "      <td>45.040857</td>\n",
              "      <td>995.949213</td>\n",
              "      <td>145.046965</td>\n",
              "    </tr>\n",
              "    <tr>\n",
              "      <th>249</th>\n",
              "      <td>1677279730</td>\n",
              "      <td>7</td>\n",
              "      <td>11</td>\n",
              "      <td>11</td>\n",
              "      <td>11.282539</td>\n",
              "      <td>66401</td>\n",
              "      <td>45.243854</td>\n",
              "      <td>995.935793</td>\n",
              "      <td>145.160265</td>\n",
              "    </tr>\n",
              "    <tr>\n",
              "      <th>250</th>\n",
              "      <td>1677279731</td>\n",
              "      <td>7</td>\n",
              "      <td>11</td>\n",
              "      <td>11</td>\n",
              "      <td>11.268086</td>\n",
              "      <td>66771</td>\n",
              "      <td>44.979361</td>\n",
              "      <td>995.949318</td>\n",
              "      <td>145.046077</td>\n",
              "    </tr>\n",
              "    <tr>\n",
              "      <th>251</th>\n",
              "      <td>1677279733</td>\n",
              "      <td>7</td>\n",
              "      <td>11</td>\n",
              "      <td>11</td>\n",
              "      <td>11.254219</td>\n",
              "      <td>66506</td>\n",
              "      <td>44.942896</td>\n",
              "      <td>995.970559</td>\n",
              "      <td>144.866744</td>\n",
              "    </tr>\n",
              "  </tbody>\n",
              "</table>\n",
              "<p>252 rows × 9 columns</p>\n",
              "</div>\n",
              "      <button class=\"colab-df-convert\" onclick=\"convertToInteractive('df-1c2f3390-e440-4773-9ce8-136b483f9a20')\"\n",
              "              title=\"Convert this dataframe to an interactive table.\"\n",
              "              style=\"display:none;\">\n",
              "        \n",
              "  <svg xmlns=\"http://www.w3.org/2000/svg\" height=\"24px\"viewBox=\"0 0 24 24\"\n",
              "       width=\"24px\">\n",
              "    <path d=\"M0 0h24v24H0V0z\" fill=\"none\"/>\n",
              "    <path d=\"M18.56 5.44l.94 2.06.94-2.06 2.06-.94-2.06-.94-.94-2.06-.94 2.06-2.06.94zm-11 1L8.5 8.5l.94-2.06 2.06-.94-2.06-.94L8.5 2.5l-.94 2.06-2.06.94zm10 10l.94 2.06.94-2.06 2.06-.94-2.06-.94-.94-2.06-.94 2.06-2.06.94z\"/><path d=\"M17.41 7.96l-1.37-1.37c-.4-.4-.92-.59-1.43-.59-.52 0-1.04.2-1.43.59L10.3 9.45l-7.72 7.72c-.78.78-.78 2.05 0 2.83L4 21.41c.39.39.9.59 1.41.59.51 0 1.02-.2 1.41-.59l7.78-7.78 2.81-2.81c.8-.78.8-2.07 0-2.86zM5.41 20L4 18.59l7.72-7.72 1.47 1.35L5.41 20z\"/>\n",
              "  </svg>\n",
              "      </button>\n",
              "      \n",
              "  <style>\n",
              "    .colab-df-container {\n",
              "      display:flex;\n",
              "      flex-wrap:wrap;\n",
              "      gap: 12px;\n",
              "    }\n",
              "\n",
              "    .colab-df-convert {\n",
              "      background-color: #E8F0FE;\n",
              "      border: none;\n",
              "      border-radius: 50%;\n",
              "      cursor: pointer;\n",
              "      display: none;\n",
              "      fill: #1967D2;\n",
              "      height: 32px;\n",
              "      padding: 0 0 0 0;\n",
              "      width: 32px;\n",
              "    }\n",
              "\n",
              "    .colab-df-convert:hover {\n",
              "      background-color: #E2EBFA;\n",
              "      box-shadow: 0px 1px 2px rgba(60, 64, 67, 0.3), 0px 1px 3px 1px rgba(60, 64, 67, 0.15);\n",
              "      fill: #174EA6;\n",
              "    }\n",
              "\n",
              "    [theme=dark] .colab-df-convert {\n",
              "      background-color: #3B4455;\n",
              "      fill: #D2E3FC;\n",
              "    }\n",
              "\n",
              "    [theme=dark] .colab-df-convert:hover {\n",
              "      background-color: #434B5C;\n",
              "      box-shadow: 0px 1px 3px 1px rgba(0, 0, 0, 0.15);\n",
              "      filter: drop-shadow(0px 1px 2px rgba(0, 0, 0, 0.3));\n",
              "      fill: #FFFFFF;\n",
              "    }\n",
              "  </style>\n",
              "\n",
              "      <script>\n",
              "        const buttonEl =\n",
              "          document.querySelector('#df-1c2f3390-e440-4773-9ce8-136b483f9a20 button.colab-df-convert');\n",
              "        buttonEl.style.display =\n",
              "          google.colab.kernel.accessAllowed ? 'block' : 'none';\n",
              "\n",
              "        async function convertToInteractive(key) {\n",
              "          const element = document.querySelector('#df-1c2f3390-e440-4773-9ce8-136b483f9a20');\n",
              "          const dataTable =\n",
              "            await google.colab.kernel.invokeFunction('convertToInteractive',\n",
              "                                                     [key], {});\n",
              "          if (!dataTable) return;\n",
              "\n",
              "          const docLinkHtml = 'Like what you see? Visit the ' +\n",
              "            '<a target=\"_blank\" href=https://colab.research.google.com/notebooks/data_table.ipynb>data table notebook</a>'\n",
              "            + ' to learn more about interactive tables.';\n",
              "          element.innerHTML = '';\n",
              "          dataTable['output_type'] = 'display_data';\n",
              "          await google.colab.output.renderOutput(dataTable, element);\n",
              "          const docLink = document.createElement('div');\n",
              "          docLink.innerHTML = docLinkHtml;\n",
              "          element.appendChild(docLink);\n",
              "        }\n",
              "      </script>\n",
              "    </div>\n",
              "  </div>\n",
              "  "
            ]
          },
          "metadata": {},
          "execution_count": 56
        }
      ]
    },
    {
      "cell_type": "code",
      "source": [
        "plt.ion()\n",
        "fig1 = plt.figure(1, figsize = (10,5))\n",
        "ax1 = fig1.add_subplot()\n",
        "fig1.canvas.draw()\n",
        "\n",
        "mu_relhum2 = np.mean(Outdoor_data['relative humility'])\n",
        "sigma_relhum2 = np.std(Outdoor_data['relative humility'])\n",
        "x_relhum2 = np.linspace(mu_relhum2 - 5*sigma_relhum2, mu_relhum2 + 5*sigma_relhum2, 1000)\n",
        "y_relhum2 = norm.pdf(x_relhum2, mu_relhum2, sigma_relhum2)\n",
        "\n",
        "ax1.plot(x_relhum2,y_relhum2)\n",
        "ax1.hist(Outdoor_data['relative humility'], bins = 40, density = True)\n",
        "ax1.set_ylabel('Frequency')\n",
        "ax1.set_xlabel('Relative Humidity')"
      ],
      "metadata": {
        "id": "F2YHEN4FqiMJ",
        "colab": {
          "base_uri": "https://localhost:8080/",
          "height": 352
        },
        "outputId": "79c822b8-73c5-406a-9b6c-e0a6f7269e1f"
      },
      "execution_count": null,
      "outputs": [
        {
          "output_type": "execute_result",
          "data": {
            "text/plain": [
              "Text(0.5, 24.0, 'Relative Humidity')"
            ]
          },
          "metadata": {},
          "execution_count": 57
        },
        {
          "output_type": "display_data",
          "data": {
            "text/plain": [
              "<Figure size 720x360 with 1 Axes>"
            ],
            "image/png": "[encoded data removed]"
          },
          "metadata": {
            "needs_background": "light"
          }
        }
      ]
    },
    {
      "cell_type": "code",
      "source": [
        "plt.ion()\n",
        "fig1 = plt.figure(1, figsize = (10,5))\n",
        "ax1 = fig1.add_subplot()\n",
        "fig1.canvas.draw()\n",
        "\n",
        "mu_temp2 = np.mean(Outdoor_data['temperature'])\n",
        "sigma_temp2 = np.std(Outdoor_data['temperature'])\n",
        "x_temp2 = np.linspace(mu_temp2 - 5*sigma_temp2, mu_temp2 + 5*sigma_temp2, 1000)\n",
        "y_temp2 = norm.pdf(x_temp2, mu_temp2, sigma_temp2)\n",
        "\n",
        "ax1.plot(x_temp2,y_temp2)\n",
        "ax1.hist(Outdoor_data['temperature'], bins = 51, density = True)\n",
        "ax1.set_ylabel('Frequency')\n",
        "ax1.set_xlabel('Temperature')"
      ],
      "metadata": {
        "id": "YCMt4SHoqiPv",
        "colab": {
          "base_uri": "https://localhost:8080/",
          "height": 352
        },
        "outputId": "4928b62b-357c-4c8f-cc53-fa5ed345b607"
      },
      "execution_count": null,
      "outputs": [
        {
          "output_type": "execute_result",
          "data": {
            "text/plain": [
              "Text(0.5, 24.0, 'Temperature')"
            ]
          },
          "metadata": {},
          "execution_count": 58
        },
        {
          "output_type": "display_data",
          "data": {
            "text/plain": [
              "<Figure size 720x360 with 1 Axes>"
            ],
            "image/png": "[encoded data removed]"
          },
          "metadata": {
            "needs_background": "light"
          }
        }
      ]
    },
    {
      "cell_type": "code",
      "source": [
        "plt.ion()\n",
        "fig1 = plt.figure(1, figsize = (10,5))\n",
        "ax1 = fig1.add_subplot()\n",
        "fig1.canvas.draw()\n",
        "\n",
        "mu_pres2 = np.mean(Outdoor_data['pressure'])\n",
        "sigma_pres2 = np.std(Outdoor_data['pressure'])\n",
        "x_pres2 = np.linspace(mu_pres2 - 5*sigma_pres2, mu_pres2 + 5*sigma_pres2, 1000)\n",
        "y_pres2 = norm.pdf(x_pres2, mu_pres2, sigma_pres2)\n",
        "\n",
        "ax1.plot(x_pres2,y_pres2)\n",
        "ax1.hist(Outdoor_data['pressure'], bins = 36, density = True)\n",
        "ax1.set_ylabel('Frequency')\n",
        "ax1.set_xlabel('Pressure')"
      ],
      "metadata": {
        "id": "zTrMlkR1r9SL",
        "colab": {
          "base_uri": "https://localhost:8080/",
          "height": 352
        },
        "outputId": "72776716-e945-46e3-c56e-52732b22f618"
      },
      "execution_count": null,
      "outputs": [
        {
          "output_type": "execute_result",
          "data": {
            "text/plain": [
              "Text(0.5, 24.0, 'Pressure')"
            ]
          },
          "metadata": {},
          "execution_count": 59
        },
        {
          "output_type": "display_data",
          "data": {
            "text/plain": [
              "<Figure size 720x360 with 1 Axes>"
            ],
            "image/png": "[encoded data removed]"
          },
          "metadata": {
            "needs_background": "light"
          }
        }
      ]
    },
    {
      "cell_type": "code",
      "source": [
        "plt.ion()\n",
        "fig1 = plt.figure(1, figsize = (10,5))\n",
        "ax1 = fig1.add_subplot()\n",
        "fig1.canvas.draw()\n",
        "\n",
        "mu_alt2 = np.mean(Outdoor_data['altitude'])\n",
        "sigma_alt2 = np.std(Outdoor_data['altitude'])\n",
        "x_alt2 = np.linspace(mu_alt2 - 5*sigma_alt2, mu_alt2 + 5*sigma_alt2, 1000)\n",
        "y_alt2 = norm.pdf(x_alt2, mu_alt2, sigma_alt2)\n",
        "\n",
        "ax1.plot(x_alt2,y_alt2)\n",
        "ax1.hist(Outdoor_data['altitude'], bins = 35, density = True)\n",
        "ax1.set_ylabel('Frequency')\n",
        "ax1.set_xlabel('Altitude')"
      ],
      "metadata": {
        "id": "ZqSVIvY5ssD4",
        "colab": {
          "base_uri": "https://localhost:8080/",
          "height": 352
        },
        "outputId": "ee4fb74c-e19e-48c3-8029-a84a15cb73f9"
      },
      "execution_count": null,
      "outputs": [
        {
          "output_type": "execute_result",
          "data": {
            "text/plain": [
              "Text(0.5, 24.0, 'Altitude')"
            ]
          },
          "metadata": {},
          "execution_count": 60
        },
        {
          "output_type": "display_data",
          "data": {
            "text/plain": [
              "<Figure size 720x360 with 1 Axes>"
            ],
            "image/png": "[encoded data removed]"
          },
          "metadata": {
            "needs_background": "light"
          }
        }
      ]
    },
    {
      "cell_type": "code",
      "source": [
        "plt.ion()\n",
        "fig1 = plt.figure(1, figsize = (10,5))\n",
        "ax1 = fig1.add_subplot()\n",
        "fig1.canvas.draw()\n",
        "\n",
        "mu_ga2 = np.mean(Outdoor_data['gas'])\n",
        "sigma_ga2 = np.std(Outdoor_data['gas'])\n",
        "x_ga2 = np.linspace(mu_ga2 - 5*sigma_ga2, mu_ga2 + 5*sigma_ga2, 1000)\n",
        "y_ga2 = norm.pdf(x_ga2, mu_ga2, sigma_ga2)\n",
        "\n",
        "ax1.plot(x_ga2,y_ga2)\n",
        "ax1.hist(Outdoor_data['gas'], bins = 42, density = True)\n",
        "ax1.set_ylabel('Frequency')\n",
        "ax1.set_xlabel('Gas')"
      ],
      "metadata": {
        "id": "HRTD93datgyE",
        "colab": {
          "base_uri": "https://localhost:8080/",
          "height": 363
        },
        "outputId": "61cb0716-4aca-4ce4-b0a0-5a6880885638"
      },
      "execution_count": null,
      "outputs": [
        {
          "output_type": "execute_result",
          "data": {
            "text/plain": [
              "Text(0.5, 24.0, 'Gas')"
            ]
          },
          "metadata": {},
          "execution_count": 61
        },
        {
          "output_type": "display_data",
          "data": {
            "text/plain": [
              "<Figure size 720x360 with 1 Axes>"
            ],
            "image/png": "[encoded data removed]"
          },
          "metadata": {
            "needs_background": "light"
          }
        }
      ]
    },
    {
      "cell_type": "code",
      "source": [
        "#Comparison of my indoor and outdoor data\n",
        "#Comparing Relative Humidity\n",
        "plt.ion()\n",
        "fig1 = plt.figure(1, figsize = (10,5))\n",
        "ax1 = fig1.add_subplot()\n",
        "fig1.canvas.draw()\n",
        "\n",
        "ax1.plot(x_relhum,y_relhum)\n",
        "ax1.plot(x_relhum2,y_relhum2)\n",
        "ax1.hist(Indoor_data['relative humility'], label='Indoor data', bins = 42, density = True)\n",
        "ax1.hist(Outdoor_data['relative humility'], label='Outdoor data', bins = 42, density = True)\n",
        "ax1.set_ylabel('Frequency')\n",
        "ax1.set_xlabel('Relative Humidity')\n",
        "ax1.legend()"
      ],
      "metadata": {
        "id": "uTtsDWlMuZcr",
        "colab": {
          "base_uri": "https://localhost:8080/",
          "height": 352
        },
        "outputId": "de08f56b-46e7-416d-f492-fef5251124e2"
      },
      "execution_count": null,
      "outputs": [
        {
          "output_type": "execute_result",
          "data": {
            "text/plain": [
              "<matplotlib.legend.Legend at 0x7fb8c34d67f0>"
            ]
          },
          "metadata": {},
          "execution_count": 62
        },
        {
          "output_type": "display_data",
          "data": {
            "text/plain": [
              "<Figure size 720x360 with 1 Axes>"
            ],
            "image/png": "[encoded data removed]"
          },
          "metadata": {
            "needs_background": "light"
          }
        }
      ]
    },
    {
      "cell_type": "code",
      "source": [
        "print('The Indoor relative humidity mean is',mu_relhum)\n",
        "Indoor_mean_uncertainty_rehum = sigma_relhum/math.sqrt(len(Indoor_data))\n",
        "print('The Indoor relative humidity mean uncertainty is', Indoor_mean_uncertainty_rehum)\n",
        "\n",
        "print('The Outdoor relative humidity is', mu_relhum2)\n",
        "Outdoor_mean_uncertainty_rehum = sigma_relhum2/math.sqrt(len(Outdoor_data))\n",
        "print('The Outdoor relative humidity mean uncertainty is', Outdoor_mean_uncertainty_rehum)\n",
        "\n",
        "print('The Indoor relative humidity standard deviation is', sigma_relhum)\n",
        "print('The Outdoor relative humidity standard deviation is', sigma_relhum2)\n",
        "std_separation_of_data_rehum = (mu_relhum2 - mu_relhum)/sigma_relhum\n",
        "print('The standard deviation separation is', std_separation_of_data_rehum)"
      ],
      "metadata": {
        "id": "Llys5Xmo1-fm",
        "colab": {
          "base_uri": "https://localhost:8080/"
        },
        "outputId": "68e34c33-1f71-4a0b-d457-9135d4364ecb"
      },
      "execution_count": null,
      "outputs": [
        {
          "output_type": "stream",
          "name": "stdout",
          "text": [
            "The Indoor relative humidity mean is 16.672732590675874\n",
            "The Indoor relative humidity mean uncertainty is 0.013168521905299546\n",
            "The Outdoor relative humidity is 37.804369955433486\n",
            "The Outdoor relative humidity mean uncertainty is 0.26747774063131136\n",
            "The Indoor relative humidity standard deviation is 0.2086286228247669\n",
            "The Outdoor relative humidity standard deviation is 4.246077497735319\n",
            "The standard deviation separation is 101.28829437994553\n"
          ]
        }
      ]
    },
    {
      "cell_type": "markdown",
      "source": [
        "The relative humidity for the indoor data and the outdoor data are not in agreement due to the outdoor data being taken on a rainy day. \n",
        "\n",
        "\n"
      ],
      "metadata": {
        "id": "H8z1Aluc2BTi"
      }
    },
    {
      "cell_type": "code",
      "source": [
        "#Comparing temperature\n",
        "plt.ion()\n",
        "fig1 = plt.figure(1, figsize = (10,5))\n",
        "ax1 = fig1.add_subplot()\n",
        "fig1.canvas.draw()\n",
        "\n",
        "ax1.plot(x_temp,y_temp)\n",
        "ax1.plot(x_temp2,y_temp2)\n",
        "ax1.hist(Indoor_data['temperature'], label='Indoor data', bins = 51, density = True)\n",
        "ax1.hist(Outdoor_data['temperature'], label='Outdoor data', bins = 51, density = True)\n",
        "ax1.set_ylabel('Frequency')\n",
        "ax1.set_xlabel('Temperature')\n",
        "ax1.legend()"
      ],
      "metadata": {
        "id": "5AndE80AuZky",
        "colab": {
          "base_uri": "https://localhost:8080/",
          "height": 352
        },
        "outputId": "e689964c-d42c-481f-de6a-56457d76da2e"
      },
      "execution_count": null,
      "outputs": [
        {
          "output_type": "execute_result",
          "data": {
            "text/plain": [
              "<matplotlib.legend.Legend at 0x7fb8c48116a0>"
            ]
          },
          "metadata": {},
          "execution_count": 64
        },
        {
          "output_type": "display_data",
          "data": {
            "text/plain": [
              "<Figure size 720x360 with 1 Axes>"
            ],
            "image/png": "[encoded data removed]"
          },
          "metadata": {
            "needs_background": "light"
          }
        }
      ]
    },
    {
      "cell_type": "code",
      "source": [
        "print('The Indoor mean temperature is', mu_temp)\n",
        "Indoor_mean_uncertainty_temp = sigma_temp/math.sqrt(len(Indoor_data))\n",
        "print('The Indoor temperature mean uncertainty is', Indoor_mean_uncertainty_temp)\n",
        "\n",
        "print('The Outdoor mean temperature is', mu_temp2)\n",
        "Outdoor_mean_uncertainty_temp = sigma_temp2/math.sqrt(len(Outdoor_data))\n",
        "print('The Outdoor temperature mean uncertainty is', Outdoor_mean_uncertainty_temp)\n",
        "\n",
        "print('The Indoor temperature standard deviation is', sigma_temp)\n",
        "print('The Outdoor temperature standard deviation is', sigma_temp2)\n",
        "std_separation_of_data_temp = abs((mu_temp2 - mu_temp)/sigma_temp)\n",
        "print('The standard deviation separation is', std_separation_of_data_temp)\n"
      ],
      "metadata": {
        "id": "eaq3jgU-2UgR",
        "colab": {
          "base_uri": "https://localhost:8080/"
        },
        "outputId": "3c42c36f-725f-47da-e21a-f6b0efe12037"
      },
      "execution_count": null,
      "outputs": [
        {
          "output_type": "stream",
          "name": "stdout",
          "text": [
            "The Indoor mean temperature is 22.827235277639442\n",
            "The Indoor temperature mean uncertainty is 0.0074813622377607565\n",
            "The Outdoor mean temperature is 16.10345222594246\n",
            "The Outdoor temperature mean uncertainty is 0.1942780086117087\n",
            "The Indoor temperature standard deviation is 0.11852706869774832\n",
            "The Outdoor temperature standard deviation is 3.084067775972677\n",
            "The standard deviation separation is 56.72782703200958\n"
          ]
        }
      ]
    },
    {
      "cell_type": "markdown",
      "source": [
        "The temperature for the indoor data and the outdoor data are not in agreement due to the difference in weather considering the outdoor data was taken on a rainy day where the temperature is generally lower.\n"
      ],
      "metadata": {
        "id": "_iVGXLZW2UxS"
      }
    },
    {
      "cell_type": "code",
      "source": [
        "#Comparing pressure\n",
        "plt.ion()\n",
        "fig1 = plt.figure(1, figsize = (10,5))\n",
        "ax1 = fig1.add_subplot()\n",
        "fig1.canvas.draw()\n",
        "\n",
        "ax1.plot(x_pres,y_pres)\n",
        "ax1.plot(x_pres2,y_pres2)\n",
        "ax1.hist(Indoor_data['pressure'], label='Indoor data', bins = 52, density = True)\n",
        "ax1.hist(Outdoor_data['pressure'], label='Outdoor data', bins = 36, density = True)\n",
        "ax1.set_ylabel('Frequency')\n",
        "ax1.set_xlabel('Pressure')\n",
        "ax1.legend()"
      ],
      "metadata": {
        "id": "EEOwmkv0uZob",
        "colab": {
          "base_uri": "https://localhost:8080/",
          "height": 352
        },
        "outputId": "77d62b7e-29e9-4486-e205-6aa98d10aed9"
      },
      "execution_count": null,
      "outputs": [
        {
          "output_type": "execute_result",
          "data": {
            "text/plain": [
              "<matplotlib.legend.Legend at 0x7fb8c3511be0>"
            ]
          },
          "metadata": {},
          "execution_count": 66
        },
        {
          "output_type": "display_data",
          "data": {
            "text/plain": [
              "<Figure size 720x360 with 1 Axes>"
            ],
            "image/png": "[encoded data removed]"
          },
          "metadata": {
            "needs_background": "light"
          }
        }
      ]
    },
    {
      "cell_type": "code",
      "source": [
        "print('The Indoor mean pressure is', mu_pres)\n",
        "Indoor_mean_uncertainty_pres = sigma_pres/math.sqrt(len(Indoor_data))\n",
        "print('The Indoor pressure mean uncertainty is', Indoor_mean_uncertainty_pres)\n",
        "\n",
        "print('The Outdoor mean pressure is', mu_pres2)\n",
        "Outdoor_mean_uncertainty_pres = sigma_pres2/math.sqrt(len(Outdoor_data))\n",
        "print('The Outdoor mean pressure uncertainty is', Outdoor_mean_uncertainty_pres)\n",
        "\n",
        "print('The Indoor pressure standard deviation is', sigma_pres)\n",
        "print('The Outdoor pressure standard deviation is', sigma_pres2)\n",
        "std_separation_of_data_pres = abs((mu_pres2 - mu_pres)/sigma_pres)\n",
        "print('The standard deviation separation is', std_separation_of_data_pres)"
      ],
      "metadata": {
        "id": "HKWimo362blj",
        "colab": {
          "base_uri": "https://localhost:8080/"
        },
        "outputId": "04839194-124b-4e98-fbb3-894a3049d4b3"
      },
      "execution_count": null,
      "outputs": [
        {
          "output_type": "stream",
          "name": "stdout",
          "text": [
            "The Indoor mean pressure is 1006.6933818306582\n",
            "The Indoor pressure mean uncertainty is 0.0006206312589262301\n",
            "The Outdoor mean pressure is 996.2323814821602\n",
            "The Outdoor mean pressure uncertainty is 0.02088543092204083\n",
            "The Indoor pressure standard deviation is 0.009832648323246677\n",
            "The Outdoor pressure standard deviation is 0.3315459374648308\n",
            "The standard deviation separation is 1063.9046576867465\n"
          ]
        }
      ]
    },
    {
      "cell_type": "markdown",
      "source": [
        "The indoor data and outdoor data for pressure are very similar but not fully the same. \n"
      ],
      "metadata": {
        "id": "K_GkPOpm2b0l"
      }
    },
    {
      "cell_type": "code",
      "source": [
        "#Comparing Altitude\n",
        "plt.ion()\n",
        "fig1 = plt.figure(1, figsize = (10,5))\n",
        "ax1 = fig1.add_subplot()\n",
        "fig1.canvas.draw()\n",
        "\n",
        "ax1.plot(x_alt,y_alt)\n",
        "ax1.plot(x_alt2,y_alt2)\n",
        "ax1.hist(Indoor_data['altitude'], label='Indoor data', bins = 54, density = True)\n",
        "ax1.hist(Outdoor_data['altitude'], label='Outdoor data', bins = 35, density = True)\n",
        "ax1.set_ylabel('Frequency')\n",
        "ax1.set_xlabel('Altitude')\n",
        "ax1.legend()"
      ],
      "metadata": {
        "id": "SxZvINGfuZ2Z",
        "colab": {
          "base_uri": "https://localhost:8080/",
          "height": 352
        },
        "outputId": "14313f7d-4bf7-49a4-8df1-b107cb45a08b"
      },
      "execution_count": null,
      "outputs": [
        {
          "output_type": "execute_result",
          "data": {
            "text/plain": [
              "<matplotlib.legend.Legend at 0x7fb8c49fc8b0>"
            ]
          },
          "metadata": {},
          "execution_count": 68
        },
        {
          "output_type": "display_data",
          "data": {
            "text/plain": [
              "<Figure size 720x360 with 1 Axes>"
            ],
            "image/png": "[encoded data removed]"
          },
          "metadata": {
            "needs_background": "light"
          }
        }
      ]
    },
    {
      "cell_type": "code",
      "source": [
        "print('The Indoor mean altitude is', mu_alt)\n",
        "Indoor_mean_uncertainty_alt = sigma_alt/math.sqrt(len(Indoor_data))\n",
        "print('The Indoor altitude mean uncertainty is', Indoor_mean_uncertainty_alt)\n",
        "\n",
        "print('The Outdoor mean altitude is', mu_alt2)\n",
        "Outdoor_mean_uncertainty_alt = sigma_alt2/math.sqrt(len(Outdoor_data))\n",
        "print('The Outdoor mean altitude uncertainty is', Outdoor_mean_uncertainty_alt)\n",
        "\n",
        "print('The Indoor altitude standard deviation is', sigma_alt)\n",
        "print('The Outdoor altitude standard deviation is', sigma_alt2)\n",
        "std_separation_of_data_alt = abs((mu_alt2 - mu_alt)/sigma_alt)\n",
        "print('The standard deviation separation is', std_separation_of_data_alt)\n"
      ],
      "metadata": {
        "id": "W1k86UKq236Q",
        "colab": {
          "base_uri": "https://localhost:8080/"
        },
        "outputId": "f487f2f9-4bd2-42cb-9e7d-709ec740f54f"
      },
      "execution_count": null,
      "outputs": [
        {
          "output_type": "stream",
          "name": "stdout",
          "text": [
            "The Indoor mean altitude is 54.73189703334771\n",
            "The Indoor altitude mean uncertainty is 0.005194406840460362\n",
            "The Outdoor mean altitude is 142.65693705934777\n",
            "The Outdoor mean altitude uncertainty is 0.1762689866969502\n",
            "The Indoor altitude standard deviation is 0.08229488118029925\n",
            "The Outdoor altitude standard deviation is 2.7981834159208976\n",
            "The standard deviation separation is 1068.4144477147458\n"
          ]
        }
      ]
    },
    {
      "cell_type": "markdown",
      "source": [
        "The altitude for the indoor data and the outdoor data are not in agreement \n"
      ],
      "metadata": {
        "id": "sF8XAZE_24KB"
      }
    },
    {
      "cell_type": "code",
      "source": [
        "plt.ion()\n",
        "fig1 = plt.figure(1, figsize = (10,5))\n",
        "ax1 = fig1.add_subplot()\n",
        "fig1.canvas.draw()\n",
        "\n",
        "ax1.plot(x_ga,y_ga)\n",
        "ax1.plot(x_ga2,y_ga2)\n",
        "ax1.hist(Indoor_data['gas'], label='Indoor Data', bins = 42, density = True)\n",
        "ax1.hist(Outdoor_data['gas'], label='Outdoor Data', bins = 42, density = True)\n",
        "ax1.set_ylabel('Frequency')\n",
        "ax1.set_xlabel('Gas')\n",
        "ax1.legend()"
      ],
      "metadata": {
        "id": "6mb1W5Abt6yM",
        "colab": {
          "base_uri": "https://localhost:8080/",
          "height": 363
        },
        "outputId": "ada58554-8341-4ede-ad7d-54badfc9f5dd"
      },
      "execution_count": null,
      "outputs": [
        {
          "output_type": "execute_result",
          "data": {
            "text/plain": [
              "<matplotlib.legend.Legend at 0x7fb8c3329c70>"
            ]
          },
          "metadata": {},
          "execution_count": 70
        },
        {
          "output_type": "display_data",
          "data": {
            "text/plain": [
              "<Figure size 720x360 with 1 Axes>"
            ],
            "image/png": "[encoded data removed]"
          },
          "metadata": {
            "needs_background": "light"
          }
        }
      ]
    },
    {
      "cell_type": "code",
      "source": [
        "print('The Indoor mean gas is', mu_ga)\n",
        "Indoor_mean_uncertainty_ga = sigma_ga/math.sqrt(len(Indoor_data))\n",
        "print('The Indoor gas mean uncertainty is', Indoor_mean_uncertainty_ga)\n",
        "\n",
        "print('The Outdoor mean gas is', mu_ga2)\n",
        "Outdoor_mean_uncertainty_ga = sigma_ga2/math.sqrt(len(Outdoor_data))\n",
        "print('The Outdoor mean gas uncertainty is', Outdoor_mean_uncertainty_ga)\n",
        "\n",
        "print('The Indoor gas standard deviation is', sigma_ga)\n",
        "print('The Outdoor gas standard deviation is', sigma_ga2)\n",
        "std_separation_of_data_ga = abs((mu_ga2 - mu_ga)/sigma_ga)\n",
        "print('The standard deviation separation is', std_separation_of_data_ga)\n"
      ],
      "metadata": {
        "id": "H2fsvTVD3D_4",
        "colab": {
          "base_uri": "https://localhost:8080/"
        },
        "outputId": "144bdd42-de93-412d-91e7-66bf0b84a3ae"
      },
      "execution_count": null,
      "outputs": [
        {
          "output_type": "stream",
          "name": "stdout",
          "text": [
            "The Indoor mean gas is 39536.035856573704\n",
            "The Indoor gas mean uncertainty is 600.5620645124794\n",
            "The Outdoor mean gas is 43714.01190476191\n",
            "The Outdoor mean gas uncertainty is 1041.9033512886997\n",
            "The Indoor gas standard deviation is 9514.692487211783\n",
            "The Outdoor gas standard deviation is 16539.702946048008\n",
            "The standard deviation separation is 0.43910783809393844\n"
          ]
        }
      ]
    },
    {
      "cell_type": "markdown",
      "source": [
        "The gas for the indoor data and the outdoor data are similar and possibly in agreement because they are within 1 standard deviation of eachother.\n"
      ],
      "metadata": {
        "id": "iHJmIW1h3ENx"
      }
    },
    {
      "cell_type": "code",
      "source": [
        "# /Users/quickaccess/Downloads/feb172023insidedata.csv\n",
        "data_file3 = 'feb172023insidedata.csv'\n",
        "Indoor_data2 = pd.read_csv(data_file3)\n",
        "Indoor_data2"
      ],
      "metadata": {
        "id": "WHhTYT4Gky7u",
        "colab": {
          "base_uri": "https://localhost:8080/",
          "height": 519
        },
        "outputId": "98393fa4-8b59-4ced-fbad-e15115ba99f4"
      },
      "execution_count": null,
      "outputs": [
        {
          "output_type": "execute_result",
          "data": {
            "text/plain": [
              "           time  Concentration Units (Standard) PM 1.0  \\\n",
              "0    1676677883                                      0   \n",
              "1    1676677885                                      0   \n",
              "2    1676677886                                      0   \n",
              "3    1676677887                                      1   \n",
              "4    1676677888                                      1   \n",
              "..          ...                                    ...   \n",
              "295  1676678235                                      0   \n",
              "296  1676678236                                      1   \n",
              "297  1676678237                                      0   \n",
              "298  1676678239                                      0   \n",
              "299  1676678240                                      0   \n",
              "\n",
              "     Concentration Units (Standard) PM 2.5  \\\n",
              "0                                        2   \n",
              "1                                        2   \n",
              "2                                        2   \n",
              "3                                        2   \n",
              "4                                        2   \n",
              "..                                     ...   \n",
              "295                                      0   \n",
              "296                                      1   \n",
              "297                                      1   \n",
              "298                                      1   \n",
              "299                                      1   \n",
              "\n",
              "     Concentration Units (Standard) PM 10.0  temperature    gas     pressure  \\\n",
              "0                                         2    22.190742  40266  1006.418695   \n",
              "1                                         2    22.209102   8369  1006.418684   \n",
              "2                                         2    22.248750  12720  1006.425273   \n",
              "3                                         2    22.287617  15648  1006.435674   \n",
              "4                                         2    22.322383  17699  1006.444328   \n",
              "..                                      ...          ...    ...          ...   \n",
              "295                                       0    22.772188  65364  1006.448528   \n",
              "296                                       1    22.772969  65415  1006.444706   \n",
              "297                                       1    22.771992  65262  1006.448202   \n",
              "298                                       1    22.772188  65313  1006.450238   \n",
              "299                                       1    22.772188  65313  1006.441689   \n",
              "\n",
              "      humidity   altitude  Unnamed: 9  \n",
              "0    16.964390  57.031162         NaN  \n",
              "1    16.945647  57.031248         NaN  \n",
              "2    16.927980  56.976090         NaN  \n",
              "3    16.870944  56.889022         NaN  \n",
              "4    16.813722  56.816573         NaN  \n",
              "..         ...        ...         ...  \n",
              "295  15.900696  56.781415         NaN  \n",
              "296  15.910491  56.813414         NaN  \n",
              "297  15.900687  56.784151         NaN  \n",
              "298  15.900696  56.767100         NaN  \n",
              "299  15.915332  56.838673         NaN  \n",
              "\n",
              "[300 rows x 10 columns]"
            ],
            "text/html": [
              "\n",
              "  <div id=\"df-d9ba09f1-3185-4aef-88c3-ba88c9ecf996\">\n",
              "    <div class=\"colab-df-container\">\n",
              "      <div>\n",
              "<style scoped>\n",
              "    .dataframe tbody tr th:only-of-type {\n",
              "        vertical-align: middle;\n",
              "    }\n",
              "\n",
              "    .dataframe tbody tr th {\n",
              "        vertical-align: top;\n",
              "    }\n",
              "\n",
              "    .dataframe thead th {\n",
              "        text-align: right;\n",
              "    }\n",
              "</style>\n",
              "<table border=\"1\" class=\"dataframe\">\n",
              "  <thead>\n",
              "    <tr style=\"text-align: right;\">\n",
              "      <th></th>\n",
              "      <th>time</th>\n",
              "      <th>Concentration Units (Standard) PM 1.0</th>\n",
              "      <th>Concentration Units (Standard) PM 2.5</th>\n",
              "      <th>Concentration Units (Standard) PM 10.0</th>\n",
              "      <th>temperature</th>\n",
              "      <th>gas</th>\n",
              "      <th>pressure</th>\n",
              "      <th>humidity</th>\n",
              "      <th>altitude</th>\n",
              "      <th>Unnamed: 9</th>\n",
              "    </tr>\n",
              "  </thead>\n",
              "  <tbody>\n",
              "    <tr>\n",
              "      <th>0</th>\n",
              "      <td>1676677883</td>\n",
              "      <td>0</td>\n",
              "      <td>2</td>\n",
              "      <td>2</td>\n",
              "      <td>22.190742</td>\n",
              "      <td>40266</td>\n",
              "      <td>1006.418695</td>\n",
              "      <td>16.964390</td>\n",
              "      <td>57.031162</td>\n",
              "      <td>NaN</td>\n",
              "    </tr>\n",
              "    <tr>\n",
              "      <th>1</th>\n",
              "      <td>1676677885</td>\n",
              "      <td>0</td>\n",
              "      <td>2</td>\n",
              "      <td>2</td>\n",
              "      <td>22.209102</td>\n",
              "      <td>8369</td>\n",
              "      <td>1006.418684</td>\n",
              "      <td>16.945647</td>\n",
              "      <td>57.031248</td>\n",
              "      <td>NaN</td>\n",
              "    </tr>\n",
              "    <tr>\n",
              "      <th>2</th>\n",
              "      <td>1676677886</td>\n",
              "      <td>0</td>\n",
              "      <td>2</td>\n",
              "      <td>2</td>\n",
              "      <td>22.248750</td>\n",
              "      <td>12720</td>\n",
              "      <td>1006.425273</td>\n",
              "      <td>16.927980</td>\n",
              "      <td>56.976090</td>\n",
              "      <td>NaN</td>\n",
              "    </tr>\n",
              "    <tr>\n",
              "      <th>3</th>\n",
              "      <td>1676677887</td>\n",
              "      <td>1</td>\n",
              "      <td>2</td>\n",
              "      <td>2</td>\n",
              "      <td>22.287617</td>\n",
              "      <td>15648</td>\n",
              "      <td>1006.435674</td>\n",
              "      <td>16.870944</td>\n",
              "      <td>56.889022</td>\n",
              "      <td>NaN</td>\n",
              "    </tr>\n",
              "    <tr>\n",
              "      <th>4</th>\n",
              "      <td>1676677888</td>\n",
              "      <td>1</td>\n",
              "      <td>2</td>\n",
              "      <td>2</td>\n",
              "      <td>22.322383</td>\n",
              "      <td>17699</td>\n",
              "      <td>1006.444328</td>\n",
              "      <td>16.813722</td>\n",
              "      <td>56.816573</td>\n",
              "      <td>NaN</td>\n",
              "    </tr>\n",
              "    <tr>\n",
              "      <th>...</th>\n",
              "      <td>...</td>\n",
              "      <td>...</td>\n",
              "      <td>...</td>\n",
              "      <td>...</td>\n",
              "      <td>...</td>\n",
              "      <td>...</td>\n",
              "      <td>...</td>\n",
              "      <td>...</td>\n",
              "      <td>...</td>\n",
              "      <td>...</td>\n",
              "    </tr>\n",
              "    <tr>\n",
              "      <th>295</th>\n",
              "      <td>1676678235</td>\n",
              "      <td>0</td>\n",
              "      <td>0</td>\n",
              "      <td>0</td>\n",
              "      <td>22.772188</td>\n",
              "      <td>65364</td>\n",
              "      <td>1006.448528</td>\n",
              "      <td>15.900696</td>\n",
              "      <td>56.781415</td>\n",
              "      <td>NaN</td>\n",
              "    </tr>\n",
              "    <tr>\n",
              "      <th>296</th>\n",
              "      <td>1676678236</td>\n",
              "      <td>1</td>\n",
              "      <td>1</td>\n",
              "      <td>1</td>\n",
              "      <td>22.772969</td>\n",
              "      <td>65415</td>\n",
              "      <td>1006.444706</td>\n",
              "      <td>15.910491</td>\n",
              "      <td>56.813414</td>\n",
              "      <td>NaN</td>\n",
              "    </tr>\n",
              "    <tr>\n",
              "      <th>297</th>\n",
              "      <td>1676678237</td>\n",
              "      <td>0</td>\n",
              "      <td>1</td>\n",
              "      <td>1</td>\n",
              "      <td>22.771992</td>\n",
              "      <td>65262</td>\n",
              "      <td>1006.448202</td>\n",
              "      <td>15.900687</td>\n",
              "      <td>56.784151</td>\n",
              "      <td>NaN</td>\n",
              "    </tr>\n",
              "    <tr>\n",
              "      <th>298</th>\n",
              "      <td>1676678239</td>\n",
              "      <td>0</td>\n",
              "      <td>1</td>\n",
              "      <td>1</td>\n",
              "      <td>22.772188</td>\n",
              "      <td>65313</td>\n",
              "      <td>1006.450238</td>\n",
              "      <td>15.900696</td>\n",
              "      <td>56.767100</td>\n",
              "      <td>NaN</td>\n",
              "    </tr>\n",
              "    <tr>\n",
              "      <th>299</th>\n",
              "      <td>1676678240</td>\n",
              "      <td>0</td>\n",
              "      <td>1</td>\n",
              "      <td>1</td>\n",
              "      <td>22.772188</td>\n",
              "      <td>65313</td>\n",
              "      <td>1006.441689</td>\n",
              "      <td>15.915332</td>\n",
              "      <td>56.838673</td>\n",
              "      <td>NaN</td>\n",
              "    </tr>\n",
              "  </tbody>\n",
              "</table>\n",
              "<p>300 rows × 10 columns</p>\n",
              "</div>\n",
              "      <button class=\"colab-df-convert\" onclick=\"convertToInteractive('df-d9ba09f1-3185-4aef-88c3-ba88c9ecf996')\"\n",
              "              title=\"Convert this dataframe to an interactive table.\"\n",
              "              style=\"display:none;\">\n",
              "        \n",
              "  <svg xmlns=\"http://www.w3.org/2000/svg\" height=\"24px\"viewBox=\"0 0 24 24\"\n",
              "       width=\"24px\">\n",
              "    <path d=\"M0 0h24v24H0V0z\" fill=\"none\"/>\n",
              "    <path d=\"M18.56 5.44l.94 2.06.94-2.06 2.06-.94-2.06-.94-.94-2.06-.94 2.06-2.06.94zm-11 1L8.5 8.5l.94-2.06 2.06-.94-2.06-.94L8.5 2.5l-.94 2.06-2.06.94zm10 10l.94 2.06.94-2.06 2.06-.94-2.06-.94-.94-2.06-.94 2.06-2.06.94z\"/><path d=\"M17.41 7.96l-1.37-1.37c-.4-.4-.92-.59-1.43-.59-.52 0-1.04.2-1.43.59L10.3 9.45l-7.72 7.72c-.78.78-.78 2.05 0 2.83L4 21.41c.39.39.9.59 1.41.59.51 0 1.02-.2 1.41-.59l7.78-7.78 2.81-2.81c.8-.78.8-2.07 0-2.86zM5.41 20L4 18.59l7.72-7.72 1.47 1.35L5.41 20z\"/>\n",
              "  </svg>\n",
              "      </button>\n",
              "      \n",
              "  <style>\n",
              "    .colab-df-container {\n",
              "      display:flex;\n",
              "      flex-wrap:wrap;\n",
              "      gap: 12px;\n",
              "    }\n",
              "\n",
              "    .colab-df-convert {\n",
              "      background-color: #E8F0FE;\n",
              "      border: none;\n",
              "      border-radius: 50%;\n",
              "      cursor: pointer;\n",
              "      display: none;\n",
              "      fill: #1967D2;\n",
              "      height: 32px;\n",
              "      padding: 0 0 0 0;\n",
              "      width: 32px;\n",
              "    }\n",
              "\n",
              "    .colab-df-convert:hover {\n",
              "      background-color: #E2EBFA;\n",
              "      box-shadow: 0px 1px 2px rgba(60, 64, 67, 0.3), 0px 1px 3px 1px rgba(60, 64, 67, 0.15);\n",
              "      fill: #174EA6;\n",
              "    }\n",
              "\n",
              "    [theme=dark] .colab-df-convert {\n",
              "      background-color: #3B4455;\n",
              "      fill: #D2E3FC;\n",
              "    }\n",
              "\n",
              "    [theme=dark] .colab-df-convert:hover {\n",
              "      background-color: #434B5C;\n",
              "      box-shadow: 0px 1px 3px 1px rgba(0, 0, 0, 0.15);\n",
              "      filter: drop-shadow(0px 1px 2px rgba(0, 0, 0, 0.3));\n",
              "      fill: #FFFFFF;\n",
              "    }\n",
              "  </style>\n",
              "\n",
              "      <script>\n",
              "        const buttonEl =\n",
              "          document.querySelector('#df-d9ba09f1-3185-4aef-88c3-ba88c9ecf996 button.colab-df-convert');\n",
              "        buttonEl.style.display =\n",
              "          google.colab.kernel.accessAllowed ? 'block' : 'none';\n",
              "\n",
              "        async function convertToInteractive(key) {\n",
              "          const element = document.querySelector('#df-d9ba09f1-3185-4aef-88c3-ba88c9ecf996');\n",
              "          const dataTable =\n",
              "            await google.colab.kernel.invokeFunction('convertToInteractive',\n",
              "                                                     [key], {});\n",
              "          if (!dataTable) return;\n",
              "\n",
              "          const docLinkHtml = 'Like what you see? Visit the ' +\n",
              "            '<a target=\"_blank\" href=https://colab.research.google.com/notebooks/data_table.ipynb>data table notebook</a>'\n",
              "            + ' to learn more about interactive tables.';\n",
              "          element.innerHTML = '';\n",
              "          dataTable['output_type'] = 'display_data';\n",
              "          await google.colab.output.renderOutput(dataTable, element);\n",
              "          const docLink = document.createElement('div');\n",
              "          docLink.innerHTML = docLinkHtml;\n",
              "          element.appendChild(docLink);\n",
              "        }\n",
              "      </script>\n",
              "    </div>\n",
              "  </div>\n",
              "  "
            ]
          },
          "metadata": {},
          "execution_count": 72
        }
      ]
    },
    {
      "cell_type": "code",
      "source": [
        "#Comparison of 2 types of indoor humidity data\n",
        "plt.ion()\n",
        "fig1 = plt.figure(1, figsize = (10,5))\n",
        "ax1 = fig1.add_subplot()\n",
        "fig1.canvas.draw()\n",
        "\n",
        "mu_relhum3 = np.mean(Indoor_data2['humidity'])\n",
        "sigma_relhum3 = np.std(Indoor_data2['humidity'])\n",
        "x_relhum3 = np.linspace(mu_relhum3 - 5*sigma_relhum3, mu_relhum3 + 5*sigma_relhum3, 1000)\n",
        "y_relhum3 = norm.pdf(x_relhum3, mu_relhum3, sigma_relhum3)\n",
        "\n",
        "ax1.plot(x_relhum,y_relhum)\n",
        "ax1.plot(x_relhum3,y_relhum3)\n",
        "ax1.hist(Indoor_data['relative humility'], label='My Indoor data', bins = 42, density = True)\n",
        "ax1.hist(Indoor_data2['humidity'], label='Other groups Indoor data', bins = 42, density = True)\n",
        "ax1.set_ylabel('Frequency')\n",
        "ax1.set_xlabel('Relative Humidity')\n",
        "ax1.legend()\n",
        "\n"
      ],
      "metadata": {
        "id": "8hzhz2i1lwgj",
        "colab": {
          "base_uri": "https://localhost:8080/",
          "height": 352
        },
        "outputId": "b99d459b-2b38-4ab9-d494-a10f20ff964e"
      },
      "execution_count": null,
      "outputs": [
        {
          "output_type": "execute_result",
          "data": {
            "text/plain": [
              "<matplotlib.legend.Legend at 0x7fb8c4a2e4c0>"
            ]
          },
          "metadata": {},
          "execution_count": 73
        },
        {
          "output_type": "display_data",
          "data": {
            "text/plain": [
              "<Figure size 720x360 with 1 Axes>"
            ],
            "image/png": "[encoded data removed]"
          },
          "metadata": {
            "needs_background": "light"
          }
        }
      ]
    },
    {
      "cell_type": "code",
      "source": [
        "print('The Indoor relative humidity mean is',mu_relhum)\n",
        "Indoor_mean_uncertainty_rehum = sigma_relhum/math.sqrt(len(Indoor_data))\n",
        "print('The Indoor relative humidity mean uncertainty is', Indoor_mean_uncertainty_rehum)\n",
        "\n",
        "print('The other groups Indoor relative humidity is', mu_relhum3)\n",
        "Other_Indoor_mean_uncertainty_rehum = sigma_relhum2/math.sqrt(len(Indoor_data2))\n",
        "print('The other groups Indoor relative humidity mean uncertainty is', Other_Indoor_mean_uncertainty_rehum)\n",
        "\n",
        "print('The Indoor relative humidity standard deviation is', sigma_relhum)\n",
        "print('The Indoor relative humidity standard deviation is', sigma_relhum3)\n",
        "std_separation_of_data_rehum = abs(mu_relhum3 - mu_relhum)/sigma_relhum\n",
        "print('The standard deviation separation is', std_separation_of_data_rehum)"
      ],
      "metadata": {
        "id": "_8iuUj9_Jhx7",
        "colab": {
          "base_uri": "https://localhost:8080/"
        },
        "outputId": "a6858d1e-ab2a-4d88-b28f-cfb442fd4cb0"
      },
      "execution_count": null,
      "outputs": [
        {
          "output_type": "stream",
          "name": "stdout",
          "text": [
            "The Indoor relative humidity mean is 16.672732590675874\n",
            "The Indoor relative humidity mean uncertainty is 0.013168521905299546\n",
            "The other groups Indoor relative humidity is 16.162532508407146\n",
            "The other groups Indoor relative humidity mean uncertainty is 0.2451473986317499\n",
            "The Indoor relative humidity standard deviation is 0.2086286228247669\n",
            "The Indoor relative humidity standard deviation is 0.17276981181003606\n",
            "The standard deviation separation is 2.4454941769771423\n"
          ]
        }
      ]
    },
    {
      "cell_type": "markdown",
      "source": [
        "I would say yes, the two types of indoor data are in agreement considering both the mean and standard deviations are very similar."
      ],
      "metadata": {
        "id": "qVJZDfTEJiCM"
      }
    },
    {
      "cell_type": "code",
      "source": [
        "#Comparing two types of indoor temperature data\n",
        "plt.ion()\n",
        "fig1 = plt.figure(1, figsize = (10,5))\n",
        "ax1 = fig1.add_subplot()\n",
        "fig1.canvas.draw()\n",
        "\n",
        "mu_temp3 = np.mean(Indoor_data2['temperature'])\n",
        "sigma_temp3 = np.std(Indoor_data2['temperature'])\n",
        "x_temp3 = np.linspace(mu_temp3 - 5*sigma_temp3, mu_temp3 + 5*sigma_temp3, 1000)\n",
        "y_temp3 = norm.pdf(x_temp3, mu_temp3, sigma_temp3)\n",
        "\n",
        "ax1.plot(x_temp,y_temp)\n",
        "ax1.plot(x_temp3,y_temp3)\n",
        "ax1.hist(Indoor_data['temperature'], label='My Indoor data', bins = 60, density = True)\n",
        "ax1.hist(Indoor_data2['temperature'], label='Other groups Indoor data', bins = 60, density = True)\n",
        "ax1.set_ylabel('Frequency')\n",
        "ax1.set_xlabel('Temperature')\n",
        "ax1.legend()"
      ],
      "metadata": {
        "id": "FUvlTSgGlwjU",
        "colab": {
          "base_uri": "https://localhost:8080/",
          "height": 352
        },
        "outputId": "a808b609-a050-46a4-ebb2-58cfbbcb06fb"
      },
      "execution_count": null,
      "outputs": [
        {
          "output_type": "execute_result",
          "data": {
            "text/plain": [
              "<matplotlib.legend.Legend at 0x7fb8c31e5c70>"
            ]
          },
          "metadata": {},
          "execution_count": 75
        },
        {
          "output_type": "display_data",
          "data": {
            "text/plain": [
              "<Figure size 720x360 with 1 Axes>"
            ],
            "image/png": "[encoded data removed]"
          },
          "metadata": {
            "needs_background": "light"
          }
        }
      ]
    },
    {
      "cell_type": "code",
      "source": [
        "print('The Indoor mean temperature is', mu_temp)\n",
        "Indoor_mean_uncertainty_temp = sigma_temp/math.sqrt(len(Indoor_data))\n",
        "print('The Indoor temperature mean uncertainty is', Indoor_mean_uncertainty_temp)\n",
        "\n",
        "print('The other Indoor mean temperature is', mu_temp3)\n",
        "Other_Indoor_mean_uncertainty_temp = sigma_temp3/math.sqrt(len(Indoor_data2))\n",
        "print('The other Indoor temperature mean uncertainty is', Other_Indoor_mean_uncertainty_temp)\n",
        "\n",
        "print('The Indoor temperature standard deviation is', sigma_temp)\n",
        "print('The other Indoor temperature standard deviation is', sigma_temp3)\n",
        "std_separation_of_data_temp = abs((mu_temp3 - mu_temp)/sigma_temp)\n",
        "print('The standard deviation separation is', std_separation_of_data_temp)"
      ],
      "metadata": {
        "id": "2EBfa17_QVGX",
        "colab": {
          "base_uri": "https://localhost:8080/"
        },
        "outputId": "4eeef33b-5960-4f16-b3cc-bc73443dd80d"
      },
      "execution_count": null,
      "outputs": [
        {
          "output_type": "stream",
          "name": "stdout",
          "text": [
            "The Indoor mean temperature is 22.827235277639442\n",
            "The Indoor temperature mean uncertainty is 0.0074813622377607565\n",
            "The other Indoor mean temperature is 22.680597656249997\n",
            "The other Indoor temperature mean uncertainty is 0.0060054946366211144\n",
            "The Indoor temperature standard deviation is 0.11852706869774832\n",
            "The other Indoor temperature standard deviation is 0.10401821835210164\n",
            "The standard deviation separation is 1.2371656786972463\n"
          ]
        }
      ]
    },
    {
      "cell_type": "markdown",
      "source": [
        "The two types of indoor data are in agreement with eachother because they are within 2 standard deviations of eachother."
      ],
      "metadata": {
        "id": "2uBC71wFQVW2"
      }
    },
    {
      "cell_type": "code",
      "source": [
        "#Comparing two types of indoor pressure data\n",
        "plt.ion()\n",
        "fig1 = plt.figure(1, figsize = (10,5))\n",
        "ax1 = fig1.add_subplot()\n",
        "fig1.canvas.draw()\n",
        "\n",
        "mu_pres3 = np.mean(Indoor_data2['pressure'])\n",
        "sigma_pres3 = np.std(Indoor_data2['pressure'])\n",
        "x_pres3 = np.linspace(mu_pres3 - 5*sigma_pres3, mu_pres3 + 5*sigma_pres3, 1000)\n",
        "y_pres3 = norm.pdf(x_pres3, mu_pres3, sigma_pres3)\n",
        "\n",
        "ax1.plot(x_pres,y_pres)\n",
        "ax1.plot(x_pres3,y_pres3)\n",
        "ax1.hist(Indoor_data['pressure'], label='My Indoor data', bins = 52, density = True)\n",
        "ax1.hist(Indoor_data2['pressure'], label='Other groups Indoor data', bins = 52, density = True)\n",
        "ax1.set_ylabel('Frequency')\n",
        "ax1.set_xlabel('Pressure')\n",
        "ax1.legend()"
      ],
      "metadata": {
        "id": "2mtpAvKilwlu",
        "colab": {
          "base_uri": "https://localhost:8080/",
          "height": 352
        },
        "outputId": "f9402c26-c3bb-4b72-fcba-6466d60a249f"
      },
      "execution_count": null,
      "outputs": [
        {
          "output_type": "execute_result",
          "data": {
            "text/plain": [
              "<matplotlib.legend.Legend at 0x7fb8c2ef6a90>"
            ]
          },
          "metadata": {},
          "execution_count": 77
        },
        {
          "output_type": "display_data",
          "data": {
            "text/plain": [
              "<Figure size 720x360 with 1 Axes>"
            ],
            "image/png": "[encoded data removed]"
          },
          "metadata": {
            "needs_background": "light"
          }
        }
      ]
    },
    {
      "cell_type": "code",
      "source": [
        "print('The Indoor mean pressure is', mu_pres)\n",
        "Indoor_mean_uncertainty_pres = sigma_pres/math.sqrt(len(Indoor_data))\n",
        "print('The Indoor pressure mean uncertainty is', Indoor_mean_uncertainty_pres)\n",
        "\n",
        "print('The other Indoor mean pressure is', mu_pres3)\n",
        "Other_Indoor_mean_uncertainty_pres = sigma_pres3/math.sqrt(len(Indoor_data2))\n",
        "print('The other Indoor mean pressure uncertainty is', Other_Indoor_mean_uncertainty_pres)\n",
        "\n",
        "print('The Indoor pressure standard deviation is', sigma_pres)\n",
        "print('The other Indoor pressure standard deviation is', sigma_pres3)\n",
        "std_separation_of_data_pres = abs((mu_pres3 - mu_pres)/sigma_pres)\n",
        "print('The standard deviation separation is', std_separation_of_data_pres)"
      ],
      "metadata": {
        "id": "HZ1faofBQ4wj",
        "colab": {
          "base_uri": "https://localhost:8080/"
        },
        "outputId": "8ab9de4b-8c4b-4e6a-b6d9-578c30da3d82"
      },
      "execution_count": null,
      "outputs": [
        {
          "output_type": "stream",
          "name": "stdout",
          "text": [
            "The Indoor mean pressure is 1006.6933818306582\n",
            "The Indoor pressure mean uncertainty is 0.0006206312589262301\n",
            "The other Indoor mean pressure is 1006.4574516136529\n",
            "The other Indoor mean pressure uncertainty is 0.0006897343932036453\n",
            "The Indoor pressure standard deviation is 0.009832648323246677\n",
            "The other Indoor pressure standard deviation is 0.011946550127564036\n",
            "The standard deviation separation is 23.994574935367858\n"
          ]
        }
      ]
    },
    {
      "cell_type": "markdown",
      "source": [
        "Although the standard deviation separatiin is high, I would say the pressures are still in agreement because they is only a few decimal number difference among the two values. And since we didn't all stand outside at the same exact spot, i would say the variation observed here is not enough to discount the accuracy of the sensor. "
      ],
      "metadata": {
        "id": "qOsF2uQOQ4i4"
      }
    },
    {
      "cell_type": "code",
      "source": [
        "#Comparison of two indoor altitude data\n",
        "plt.ion()\n",
        "fig1 = plt.figure(1, figsize = (10,5))\n",
        "ax1 = fig1.add_subplot()\n",
        "fig1.canvas.draw()\n",
        "\n",
        "mu_alt3 = np.mean(Indoor_data2['altitude'])\n",
        "sigma_alt3 = np.std(Indoor_data2['altitude'])\n",
        "x_alt3 = np.linspace(mu_alt3 - 5*sigma_alt3, mu_alt3 + 5*sigma_alt3, 1000)\n",
        "y_alt3 = norm.pdf(x_alt3, mu_alt3, sigma_alt3)\n",
        "\n",
        "ax1.plot(x_alt,y_alt)\n",
        "ax1.plot(x_alt3,y_alt3)\n",
        "ax1.hist(Indoor_data['altitude'], label='My Indoor data', bins = 54, density = True)\n",
        "ax1.hist(Indoor_data2['altitude'], label='Other groups Indoor data', bins = 54, density = True)\n",
        "ax1.set_ylabel('Frequency')\n",
        "ax1.set_xlabel('Altitude')\n",
        "ax1.legend()"
      ],
      "metadata": {
        "id": "Reo0gp5zlwpX",
        "colab": {
          "base_uri": "https://localhost:8080/",
          "height": 352
        },
        "outputId": "1622ebb7-e9ed-48b6-fbb1-4cbbaa9b42a2"
      },
      "execution_count": null,
      "outputs": [
        {
          "output_type": "execute_result",
          "data": {
            "text/plain": [
              "<matplotlib.legend.Legend at 0x7fb8c2de39a0>"
            ]
          },
          "metadata": {},
          "execution_count": 79
        },
        {
          "output_type": "display_data",
          "data": {
            "text/plain": [
              "<Figure size 720x360 with 1 Axes>"
            ],
            "image/png": "[encoded data removed]"
          },
          "metadata": {
            "needs_background": "light"
          }
        }
      ]
    },
    {
      "cell_type": "code",
      "source": [
        "print('The Indoor mean altitude is', mu_alt)\n",
        "Indoor_mean_uncertainty_alt = sigma_alt/math.sqrt(len(Indoor_data))\n",
        "print('The Indoor altitude mean uncertainty is', Indoor_mean_uncertainty_alt)\n",
        "\n",
        "print('The other Indoor mean altitude is', mu_alt3)\n",
        "Other_Indoor_mean_uncertainty_alt = sigma_alt3/math.sqrt(len(Indoor_data2))\n",
        "print('The other Indoor mean altitude uncertainty is', Other_Indoor_mean_uncertainty_alt)\n",
        "\n",
        "print('The Indoor altitude standard deviation is', sigma_alt)\n",
        "print('The other Indoor altitude standard deviation is', sigma_alt3)\n",
        "std_separation_of_data_alt = abs((mu_alt3 - mu_alt)/sigma_alt)\n",
        "print('The standard deviation separation is', std_separation_of_data_alt)"
      ],
      "metadata": {
        "id": "rMfnayz2SfMn",
        "colab": {
          "base_uri": "https://localhost:8080/"
        },
        "outputId": "cb93cb25-3cea-43a1-9e22-2385a547a6d5"
      },
      "execution_count": null,
      "outputs": [
        {
          "output_type": "stream",
          "name": "stdout",
          "text": [
            "The Indoor mean altitude is 54.73189703334771\n",
            "The Indoor altitude mean uncertainty is 0.005194406840460362\n",
            "The other Indoor mean altitude is 56.706717347805245\n",
            "The other Indoor mean altitude uncertainty is 0.00577387057213659\n",
            "The Indoor altitude standard deviation is 0.08229488118029925\n",
            "The other Indoor altitude standard deviation is 0.10000637187267358\n",
            "The standard deviation separation is 23.99687910273446\n"
          ]
        }
      ]
    },
    {
      "cell_type": "markdown",
      "source": [
        "Based on the data, the altitude data acquired are nearly in agreement because there is a difference even though the difference is not relatively large."
      ],
      "metadata": {
        "id": "MWPjD16_SfAH"
      }
    },
    {
      "cell_type": "code",
      "source": [
        "plt.ion()\n",
        "fig1 = plt.figure(1, figsize = (10,5))\n",
        "ax1 = fig1.add_subplot()\n",
        "fig1.canvas.draw()\n",
        "\n",
        "mu_ga3 = np.mean(Indoor_data2['gas'])\n",
        "sigma_ga3 = np.std(Indoor_data2['gas'])\n",
        "x_ga3 = np.linspace(mu_ga3 - 5*sigma_ga3, mu_ga3 + 5*sigma_ga3, 1000)\n",
        "y_ga3 = norm.pdf(x_ga3, mu_ga3, sigma_ga3)\n",
        "\n",
        "ax1.plot(x_ga,y_ga)\n",
        "ax1.plot(x_ga3,y_ga3)\n",
        "ax1.hist(Indoor_data['gas'], label='My Indoor data', bins = 42, density = True)\n",
        "ax1.hist(Indoor_data2['gas'], label='Other groups Indoor data', bins = 42, density = True)\n",
        "ax1.set_ylabel('Frequency')\n",
        "ax1.set_xlabel('Gas')\n",
        "ax1.legend()"
      ],
      "metadata": {
        "id": "3yKNlpYkl6xW",
        "colab": {
          "base_uri": "https://localhost:8080/",
          "height": 363
        },
        "outputId": "24bbc9b6-8b42-4074-b534-d0480def5fdb"
      },
      "execution_count": null,
      "outputs": [
        {
          "output_type": "execute_result",
          "data": {
            "text/plain": [
              "<matplotlib.legend.Legend at 0x7fb8c2c44550>"
            ]
          },
          "metadata": {},
          "execution_count": 81
        },
        {
          "output_type": "display_data",
          "data": {
            "text/plain": [
              "<Figure size 720x360 with 1 Axes>"
            ],
            "image/png": "[encoded data removed]"
          },
          "metadata": {
            "needs_background": "light"
          }
        }
      ]
    },
    {
      "cell_type": "code",
      "source": [
        "print('The Indoor mean gas is', mu_ga)\n",
        "Indoor_mean_uncertainty_ga = sigma_ga/math.sqrt(len(Indoor_data))\n",
        "print('The Indoor gas mean uncertainty is', Indoor_mean_uncertainty_ga)\n",
        "\n",
        "print('The other Indoor mean gas is', mu_ga3)\n",
        "Other_Indoor_mean_uncertainty_ga = sigma_ga3/math.sqrt(len(Indoor_data2))\n",
        "print('The other Indoor mean gas uncertainty is', Other_Indoor_mean_uncertainty_ga)\n",
        "\n",
        "print('The Indoor gas standard deviation is', sigma_ga)\n",
        "print('The other Indoor gas standard deviation is', sigma_ga3)\n",
        "std_separation_of_data_ga = abs((mu_ga3 - mu_ga)/sigma_ga)\n",
        "print('The standard deviation separation is', std_separation_of_data_ga)"
      ],
      "metadata": {
        "colab": {
          "base_uri": "https://localhost:8080/"
        },
        "id": "nx970auaPDS3",
        "outputId": "405f977b-d120-45a4-a5a4-612f04af02e9"
      },
      "execution_count": null,
      "outputs": [
        {
          "output_type": "stream",
          "name": "stdout",
          "text": [
            "The Indoor mean gas is 39536.035856573704\n",
            "The Indoor gas mean uncertainty is 600.5620645124794\n",
            "The other Indoor mean gas is 52721.30333333334\n",
            "The other Indoor mean gas uncertainty is 659.1404293083923\n",
            "The Indoor gas standard deviation is 9514.692487211783\n",
            "The other Indoor gas standard deviation is 11416.647128848976\n",
            "The standard deviation separation is 1.3857796764825856\n"
          ]
        }
      ]
    },
    {
      "cell_type": "markdown",
      "source": [
        "I don't think the data above can indicate the accuracy and precision of the sensor because we were at different places outside with the group we compared with, and if we are not controlling for how we are taking data then the acuracy and precision cannot be fairly accounted for. "
      ],
      "metadata": {
        "id": "6mxxuTHhHOHE"
      }
    },
    {
      "cell_type": "code",
      "source": [
        "# /Users/quickaccess/Downloads/feb242023outsidedata.csv\n",
        "data_file4 = 'feb242023outsidedata.csv'\n",
        "Outdoor_data2 = pd.read_csv(data_file4)\n",
        "Outdoor_data2"
      ],
      "metadata": {
        "id": "lihRD1jsky_2",
        "colab": {
          "base_uri": "https://localhost:8080/",
          "height": 519
        },
        "outputId": "66817f28-75de-4cfa-c774-bb81a261038e"
      },
      "execution_count": null,
      "outputs": [
        {
          "output_type": "execute_result",
          "data": {
            "text/plain": [
              "           time  Concentration Units (Standard) PM 1.0  \\\n",
              "0    1677279633                                      0   \n",
              "1    1677279634                                      0   \n",
              "2    1677279635                                      0   \n",
              "3    1677279636                                      0   \n",
              "4    1677279638                                      0   \n",
              "..          ...                                    ...   \n",
              "295  1677279984                                      0   \n",
              "296  1677279985                                      0   \n",
              "297  1677279987                                      0   \n",
              "298  1677279988                                      0   \n",
              "299  1677279989                                      0   \n",
              "\n",
              "     Concentration Units (Standard) PM 2.5  \\\n",
              "0                                        0   \n",
              "1                                        0   \n",
              "2                                        0   \n",
              "3                                        0   \n",
              "4                                        0   \n",
              "..                                     ...   \n",
              "295                                      0   \n",
              "296                                      0   \n",
              "297                                      0   \n",
              "298                                      0   \n",
              "299                                      0   \n",
              "\n",
              "     Concentration Units (Standard) PM 10.0  temperature    gas    pressure  \\\n",
              "0                                         0    17.225703   7692  995.627281   \n",
              "1                                         0    17.219062   1920  995.636552   \n",
              "2                                         0    17.173945   3334  995.641023   \n",
              "3                                         0    17.121797   4454  995.654101   \n",
              "4                                         0    17.062812   5446  995.659161   \n",
              "..                                      ...          ...    ...         ...   \n",
              "295                                       0    10.025898  92005  996.632130   \n",
              "296                                       0     9.977070  92005  996.674091   \n",
              "297                                       0     9.933320  93234  996.699434   \n",
              "298                                       0     9.898750  93966  996.688251   \n",
              "299                                       0     9.875312  94283  996.695776   \n",
              "\n",
              "      humidity    altitude  Unnamed: 9  \n",
              "0    34.115785  147.765263         NaN  \n",
              "1    33.953819  147.686964         NaN  \n",
              "2    33.827560  147.649210         NaN  \n",
              "3    33.767445  147.538772         NaN  \n",
              "4    33.645723  147.496043         NaN  \n",
              "..         ...         ...         ...  \n",
              "295  49.994323  139.282969         NaN  \n",
              "296  50.159778  138.928914         NaN  \n",
              "297  50.167153  138.715077         NaN  \n",
              "298  50.016902  138.809433         NaN  \n",
              "299  50.240116  138.745946         NaN  \n",
              "\n",
              "[300 rows x 10 columns]"
            ],
            "text/html": [
              "\n",
              "  <div id=\"df-b5240d91-4c21-40fd-905b-6242f11eedce\">\n",
              "    <div class=\"colab-df-container\">\n",
              "      <div>\n",
              "<style scoped>\n",
              "    .dataframe tbody tr th:only-of-type {\n",
              "        vertical-align: middle;\n",
              "    }\n",
              "\n",
              "    .dataframe tbody tr th {\n",
              "        vertical-align: top;\n",
              "    }\n",
              "\n",
              "    .dataframe thead th {\n",
              "        text-align: right;\n",
              "    }\n",
              "</style>\n",
              "<table border=\"1\" class=\"dataframe\">\n",
              "  <thead>\n",
              "    <tr style=\"text-align: right;\">\n",
              "      <th></th>\n",
              "      <th>time</th>\n",
              "      <th>Concentration Units (Standard) PM 1.0</th>\n",
              "      <th>Concentration Units (Standard) PM 2.5</th>\n",
              "      <th>Concentration Units (Standard) PM 10.0</th>\n",
              "      <th>temperature</th>\n",
              "      <th>gas</th>\n",
              "      <th>pressure</th>\n",
              "      <th>humidity</th>\n",
              "      <th>altitude</th>\n",
              "      <th>Unnamed: 9</th>\n",
              "    </tr>\n",
              "  </thead>\n",
              "  <tbody>\n",
              "    <tr>\n",
              "      <th>0</th>\n",
              "      <td>1677279633</td>\n",
              "      <td>0</td>\n",
              "      <td>0</td>\n",
              "      <td>0</td>\n",
              "      <td>17.225703</td>\n",
              "      <td>7692</td>\n",
              "      <td>995.627281</td>\n",
              "      <td>34.115785</td>\n",
              "      <td>147.765263</td>\n",
              "      <td>NaN</td>\n",
              "    </tr>\n",
              "    <tr>\n",
              "      <th>1</th>\n",
              "      <td>1677279634</td>\n",
              "      <td>0</td>\n",
              "      <td>0</td>\n",
              "      <td>0</td>\n",
              "      <td>17.219062</td>\n",
              "      <td>1920</td>\n",
              "      <td>995.636552</td>\n",
              "      <td>33.953819</td>\n",
              "      <td>147.686964</td>\n",
              "      <td>NaN</td>\n",
              "    </tr>\n",
              "    <tr>\n",
              "      <th>2</th>\n",
              "      <td>1677279635</td>\n",
              "      <td>0</td>\n",
              "      <td>0</td>\n",
              "      <td>0</td>\n",
              "      <td>17.173945</td>\n",
              "      <td>3334</td>\n",
              "      <td>995.641023</td>\n",
              "      <td>33.827560</td>\n",
              "      <td>147.649210</td>\n",
              "      <td>NaN</td>\n",
              "    </tr>\n",
              "    <tr>\n",
              "      <th>3</th>\n",
              "      <td>1677279636</td>\n",
              "      <td>0</td>\n",
              "      <td>0</td>\n",
              "      <td>0</td>\n",
              "      <td>17.121797</td>\n",
              "      <td>4454</td>\n",
              "      <td>995.654101</td>\n",
              "      <td>33.767445</td>\n",
              "      <td>147.538772</td>\n",
              "      <td>NaN</td>\n",
              "    </tr>\n",
              "    <tr>\n",
              "      <th>4</th>\n",
              "      <td>1677279638</td>\n",
              "      <td>0</td>\n",
              "      <td>0</td>\n",
              "      <td>0</td>\n",
              "      <td>17.062812</td>\n",
              "      <td>5446</td>\n",
              "      <td>995.659161</td>\n",
              "      <td>33.645723</td>\n",
              "      <td>147.496043</td>\n",
              "      <td>NaN</td>\n",
              "    </tr>\n",
              "    <tr>\n",
              "      <th>...</th>\n",
              "      <td>...</td>\n",
              "      <td>...</td>\n",
              "      <td>...</td>\n",
              "      <td>...</td>\n",
              "      <td>...</td>\n",
              "      <td>...</td>\n",
              "      <td>...</td>\n",
              "      <td>...</td>\n",
              "      <td>...</td>\n",
              "      <td>...</td>\n",
              "    </tr>\n",
              "    <tr>\n",
              "      <th>295</th>\n",
              "      <td>1677279984</td>\n",
              "      <td>0</td>\n",
              "      <td>0</td>\n",
              "      <td>0</td>\n",
              "      <td>10.025898</td>\n",
              "      <td>92005</td>\n",
              "      <td>996.632130</td>\n",
              "      <td>49.994323</td>\n",
              "      <td>139.282969</td>\n",
              "      <td>NaN</td>\n",
              "    </tr>\n",
              "    <tr>\n",
              "      <th>296</th>\n",
              "      <td>1677279985</td>\n",
              "      <td>0</td>\n",
              "      <td>0</td>\n",
              "      <td>0</td>\n",
              "      <td>9.977070</td>\n",
              "      <td>92005</td>\n",
              "      <td>996.674091</td>\n",
              "      <td>50.159778</td>\n",
              "      <td>138.928914</td>\n",
              "      <td>NaN</td>\n",
              "    </tr>\n",
              "    <tr>\n",
              "      <th>297</th>\n",
              "      <td>1677279987</td>\n",
              "      <td>0</td>\n",
              "      <td>0</td>\n",
              "      <td>0</td>\n",
              "      <td>9.933320</td>\n",
              "      <td>93234</td>\n",
              "      <td>996.699434</td>\n",
              "      <td>50.167153</td>\n",
              "      <td>138.715077</td>\n",
              "      <td>NaN</td>\n",
              "    </tr>\n",
              "    <tr>\n",
              "      <th>298</th>\n",
              "      <td>1677279988</td>\n",
              "      <td>0</td>\n",
              "      <td>0</td>\n",
              "      <td>0</td>\n",
              "      <td>9.898750</td>\n",
              "      <td>93966</td>\n",
              "      <td>996.688251</td>\n",
              "      <td>50.016902</td>\n",
              "      <td>138.809433</td>\n",
              "      <td>NaN</td>\n",
              "    </tr>\n",
              "    <tr>\n",
              "      <th>299</th>\n",
              "      <td>1677279989</td>\n",
              "      <td>0</td>\n",
              "      <td>0</td>\n",
              "      <td>0</td>\n",
              "      <td>9.875312</td>\n",
              "      <td>94283</td>\n",
              "      <td>996.695776</td>\n",
              "      <td>50.240116</td>\n",
              "      <td>138.745946</td>\n",
              "      <td>NaN</td>\n",
              "    </tr>\n",
              "  </tbody>\n",
              "</table>\n",
              "<p>300 rows × 10 columns</p>\n",
              "</div>\n",
              "      <button class=\"colab-df-convert\" onclick=\"convertToInteractive('df-b5240d91-4c21-40fd-905b-6242f11eedce')\"\n",
              "              title=\"Convert this dataframe to an interactive table.\"\n",
              "              style=\"display:none;\">\n",
              "        \n",
              "  <svg xmlns=\"http://www.w3.org/2000/svg\" height=\"24px\"viewBox=\"0 0 24 24\"\n",
              "       width=\"24px\">\n",
              "    <path d=\"M0 0h24v24H0V0z\" fill=\"none\"/>\n",
              "    <path d=\"M18.56 5.44l.94 2.06.94-2.06 2.06-.94-2.06-.94-.94-2.06-.94 2.06-2.06.94zm-11 1L8.5 8.5l.94-2.06 2.06-.94-2.06-.94L8.5 2.5l-.94 2.06-2.06.94zm10 10l.94 2.06.94-2.06 2.06-.94-2.06-.94-.94-2.06-.94 2.06-2.06.94z\"/><path d=\"M17.41 7.96l-1.37-1.37c-.4-.4-.92-.59-1.43-.59-.52 0-1.04.2-1.43.59L10.3 9.45l-7.72 7.72c-.78.78-.78 2.05 0 2.83L4 21.41c.39.39.9.59 1.41.59.51 0 1.02-.2 1.41-.59l7.78-7.78 2.81-2.81c.8-.78.8-2.07 0-2.86zM5.41 20L4 18.59l7.72-7.72 1.47 1.35L5.41 20z\"/>\n",
              "  </svg>\n",
              "      </button>\n",
              "      \n",
              "  <style>\n",
              "    .colab-df-container {\n",
              "      display:flex;\n",
              "      flex-wrap:wrap;\n",
              "      gap: 12px;\n",
              "    }\n",
              "\n",
              "    .colab-df-convert {\n",
              "      background-color: #E8F0FE;\n",
              "      border: none;\n",
              "      border-radius: 50%;\n",
              "      cursor: pointer;\n",
              "      display: none;\n",
              "      fill: #1967D2;\n",
              "      height: 32px;\n",
              "      padding: 0 0 0 0;\n",
              "      width: 32px;\n",
              "    }\n",
              "\n",
              "    .colab-df-convert:hover {\n",
              "      background-color: #E2EBFA;\n",
              "      box-shadow: 0px 1px 2px rgba(60, 64, 67, 0.3), 0px 1px 3px 1px rgba(60, 64, 67, 0.15);\n",
              "      fill: #174EA6;\n",
              "    }\n",
              "\n",
              "    [theme=dark] .colab-df-convert {\n",
              "      background-color: #3B4455;\n",
              "      fill: #D2E3FC;\n",
              "    }\n",
              "\n",
              "    [theme=dark] .colab-df-convert:hover {\n",
              "      background-color: #434B5C;\n",
              "      box-shadow: 0px 1px 3px 1px rgba(0, 0, 0, 0.15);\n",
              "      filter: drop-shadow(0px 1px 2px rgba(0, 0, 0, 0.3));\n",
              "      fill: #FFFFFF;\n",
              "    }\n",
              "  </style>\n",
              "\n",
              "      <script>\n",
              "        const buttonEl =\n",
              "          document.querySelector('#df-b5240d91-4c21-40fd-905b-6242f11eedce button.colab-df-convert');\n",
              "        buttonEl.style.display =\n",
              "          google.colab.kernel.accessAllowed ? 'block' : 'none';\n",
              "\n",
              "        async function convertToInteractive(key) {\n",
              "          const element = document.querySelector('#df-b5240d91-4c21-40fd-905b-6242f11eedce');\n",
              "          const dataTable =\n",
              "            await google.colab.kernel.invokeFunction('convertToInteractive',\n",
              "                                                     [key], {});\n",
              "          if (!dataTable) return;\n",
              "\n",
              "          const docLinkHtml = 'Like what you see? Visit the ' +\n",
              "            '<a target=\"_blank\" href=https://colab.research.google.com/notebooks/data_table.ipynb>data table notebook</a>'\n",
              "            + ' to learn more about interactive tables.';\n",
              "          element.innerHTML = '';\n",
              "          dataTable['output_type'] = 'display_data';\n",
              "          await google.colab.output.renderOutput(dataTable, element);\n",
              "          const docLink = document.createElement('div');\n",
              "          docLink.innerHTML = docLinkHtml;\n",
              "          element.appendChild(docLink);\n",
              "        }\n",
              "      </script>\n",
              "    </div>\n",
              "  </div>\n",
              "  "
            ]
          },
          "metadata": {},
          "execution_count": 83
        }
      ]
    },
    {
      "cell_type": "code",
      "source": [
        "#Comparison of 2 types of Outdoor humidity data\n",
        "plt.ion()\n",
        "fig1 = plt.figure(1, figsize = (10,5))\n",
        "ax1 = fig1.add_subplot()\n",
        "fig1.canvas.draw()\n",
        "\n",
        "mu_relhum4 = np.mean(Outdoor_data2['humidity'])\n",
        "sigma_relhum4 = np.std(Outdoor_data2['humidity'])\n",
        "x_relhum4 = np.linspace(mu_relhum4 - 5*sigma_relhum4, mu_relhum4 + 5*sigma_relhum4, 1000)\n",
        "y_relhum4 = norm.pdf(x_relhum4, mu_relhum4, sigma_relhum4)\n",
        "\n",
        "ax1.plot(x_relhum2,y_relhum2)\n",
        "ax1.plot(x_relhum4,y_relhum4)\n",
        "ax1.hist(Outdoor_data['relative humility'], label='My Outdoor data', bins = 40, density = True)\n",
        "ax1.hist(Outdoor_data2['humidity'], label='Other groups Outdoor data', bins = 40, density = True)\n",
        "ax1.set_ylabel('Frequency')\n",
        "ax1.set_xlabel('Relative Humidity')\n",
        "ax1.legend()"
      ],
      "metadata": {
        "id": "6OE5tR9Xkyxp",
        "colab": {
          "base_uri": "https://localhost:8080/",
          "height": 352
        },
        "outputId": "2a1138fc-f129-4cd1-99c8-f949c1709d11"
      },
      "execution_count": null,
      "outputs": [
        {
          "output_type": "execute_result",
          "data": {
            "text/plain": [
              "<matplotlib.legend.Legend at 0x7fb8c2b5a160>"
            ]
          },
          "metadata": {},
          "execution_count": 84
        },
        {
          "output_type": "display_data",
          "data": {
            "text/plain": [
              "<Figure size 720x360 with 1 Axes>"
            ],
            "image/png": "[encoded data removed]"
          },
          "metadata": {
            "needs_background": "light"
          }
        }
      ]
    },
    {
      "cell_type": "code",
      "source": [
        "print('The Outdoor relative humidity mean is',mu_relhum2)\n",
        "Outdoor_mean_uncertainty_rehum = sigma_relhum2/math.sqrt(len(Outdoor_data))\n",
        "print('The Outdoor relative humidity mean uncertainty is', Outdoor_mean_uncertainty_rehum)\n",
        "\n",
        "print('The other groups Outdoor relative humidity mean is', mu_relhum4)\n",
        "Other_Outdoor_mean_uncertainty_rehum = sigma_relhum4/math.sqrt(len(Outdoor_data2))\n",
        "print('The other groups Outdoor relative humidity mean uncertainty is', Other_Outdoor_mean_uncertainty_rehum)\n",
        "\n",
        "print('The Outdoor relative humidity standard deviation is', sigma_relhum2)\n",
        "print('The other Outdoor relative humidity standard deviation is', sigma_relhum4)\n",
        "std_separation_of_data_rehum = abs(mu_relhum4 - mu_relhum2)/sigma_relhum2\n",
        "print('The standard deviation separation is', std_separation_of_data_rehum)"
      ],
      "metadata": {
        "id": "iWYRuq5DPgMH",
        "outputId": "eabac897-87a4-4147-bbee-160d126c8fb3",
        "colab": {
          "base_uri": "https://localhost:8080/"
        }
      },
      "execution_count": null,
      "outputs": [
        {
          "output_type": "stream",
          "name": "stdout",
          "text": [
            "The Outdoor relative humidity mean is 37.804369955433486\n",
            "The Outdoor relative humidity mean uncertainty is 0.26747774063131136\n",
            "The other groups Outdoor relative humidity mean is 40.87286126979914\n",
            "The other groups Outdoor relative humidity mean uncertainty is 0.3560044677124873\n",
            "The Outdoor relative humidity standard deviation is 4.246077497735319\n",
            "The other Outdoor relative humidity standard deviation is 6.166178257995419\n",
            "The standard deviation separation is 0.7226649339307295\n"
          ]
        }
      ]
    },
    {
      "cell_type": "code",
      "source": [
        "#Comparison of 2 types of Outdoor temperature data\n",
        "plt.ion()\n",
        "fig1 = plt.figure(1, figsize = (10,5))\n",
        "ax1 = fig1.add_subplot()\n",
        "fig1.canvas.draw()\n",
        "\n",
        "mu_temp4 = np.mean(Outdoor_data2['temperature'])\n",
        "sigma_temp4 = np.std(Outdoor_data2['temperature'])\n",
        "x_temp4 = np.linspace(mu_temp4 - 5*sigma_temp4, mu_temp4 + 5*sigma_temp4, 1000)\n",
        "y_temp4 = norm.pdf(x_temp4, mu_temp4, sigma_temp4)\n",
        "\n",
        "ax1.plot(x_temp2,y_temp2)\n",
        "ax1.plot(x_temp4,y_temp4)\n",
        "ax1.hist(Outdoor_data['temperature'], label='My Outdoor data', bins = 51, density = True)\n",
        "ax1.hist(Outdoor_data2['temperature'], label='Other groups Outdoor data', bins = 51, density = True)\n",
        "ax1.set_ylabel('Frequency')\n",
        "ax1.set_xlabel('Temperature')\n",
        "ax1.legend()"
      ],
      "metadata": {
        "id": "fwegCGQKkyue",
        "colab": {
          "base_uri": "https://localhost:8080/"
        },
        "outputId": "f8a75056-86bb-4079-96c8-596484926bda"
      },
      "execution_count": null,
      "outputs": [
        {
          "output_type": "execute_result",
          "data": {
            "text/plain": [
              "<matplotlib.legend.Legend at 0x7fb8c2c44be0>"
            ]
          },
          "metadata": {},
          "execution_count": 86
        },
        {
          "output_type": "display_data",
          "data": {
            "text/plain": [
              "<Figure size 720x360 with 1 Axes>"
            ],
            "image/png": "[encoded data removed]"
          },
          "metadata": {
            "needs_background": "light"
          }
        }
      ]
    },
    {
      "cell_type": "code",
      "source": [
        "print('The Outdoor temperature mean is',mu_temp2)\n",
        "Outdoor_mean_uncertainty_temp = sigma_temp2/math.sqrt(len(Outdoor_data))\n",
        "print('The Outdoor temperature mean uncertainty is', Outdoor_mean_uncertainty_temp)\n",
        "\n",
        "print('The other groups Outdoor temperature mean is', mu_temp4)\n",
        "Other_Outdoor_mean_uncertainty_temp = sigma_temp4/math.sqrt(len(Outdoor_data2))\n",
        "print('The other groups Outdoor temperature mean uncertainty is', Other_Outdoor_mean_uncertainty_temp)\n",
        "\n",
        "print('The Outdoor temperature standard deviation is', sigma_temp2)\n",
        "print('The other groups Outdoor temperature standard deviation is', sigma_temp4)\n",
        "std_separation_of_data_temp = abs(mu_temp4 - mu_temp2)/sigma_temp2\n",
        "print('The standard deviation separation is', std_separation_of_data_temp)"
      ],
      "metadata": {
        "colab": {
          "base_uri": "https://localhost:8080/"
        },
        "id": "UZ_p73kCQNm3",
        "outputId": "1a1d7d16-26ae-48cf-b0af-7fbf54764ecb"
      },
      "execution_count": null,
      "outputs": [
        {
          "output_type": "stream",
          "name": "stdout",
          "text": [
            "The Outdoor temperature mean is 16.10345222594246\n",
            "The Outdoor temperature mean uncertainty is 0.1942780086117087\n",
            "The other groups Outdoor temperature mean is 14.08947265625\n",
            "The other groups Outdoor temperature mean uncertainty is 0.1451428442633961\n",
            "The Outdoor temperature standard deviation is 3.084067775972677\n",
            "The other groups Outdoor temperature standard deviation is 2.5139478061925904\n",
            "The standard deviation separation is 0.6530270136677763\n"
          ]
        }
      ]
    },
    {
      "cell_type": "code",
      "source": [
        "plt.ion()\n",
        "fig1 = plt.figure(1, figsize = (10,5))\n",
        "ax1 = fig1.add_subplot()\n",
        "fig1.canvas.draw()\n",
        "\n",
        "mu_pres4 = np.mean(Outdoor_data2['pressure'])\n",
        "sigma_pres4 = np.std(Outdoor_data2['pressure'])\n",
        "x_pres4 = np.linspace(mu_pres4 - 5*sigma_pres4, mu_pres4 + 5*sigma_pres4, 1000)\n",
        "y_pres4 = norm.pdf(x_pres4, mu_pres4, sigma_pres4)\n",
        "\n",
        "ax1.plot(x_pres2,y_pres2)\n",
        "ax1.plot(x_pres4,y_pres4)\n",
        "ax1.hist(Outdoor_data['pressure'], label='My Outdoor data', bins = 46, density = True)\n",
        "ax1.hist(Outdoor_data2['pressure'], label='Other groups Outdoor data', bins = 43, density = True)\n",
        "ax1.set_ylabel('Frequency')\n",
        "ax1.set_xlabel('Pressure')\n",
        "ax1.legend()"
      ],
      "metadata": {
        "id": "DA7Ms2Nwphyv"
      },
      "execution_count": null,
      "outputs": []
    },
    {
      "cell_type": "code",
      "source": [
        "print('The Outdoor pressure mean is',mu_pres2)\n",
        "Outdoor_mean_uncertainty_pres = sigma_pres2/math.sqrt(len(Outdoor_data))\n",
        "print('The Outdoor pressure mean uncertainty is', Outdoor_mean_uncertainty_pres)\n",
        "\n",
        "print('The other groups Outdoor pressure mean is', mu_pres4)\n",
        "Other_Outdoor_mean_uncertainty_pres = sigma_pres4/math.sqrt(len(Outdoor_data2))\n",
        "print('The other groups Outdoor pressure mean uncertainty is', Other_Outdoor_mean_uncertainty_pres)\n",
        "\n",
        "print('The Outdoor pressure standard deviation is', sigma_pres2)\n",
        "print('The other groups Outdoor pressure standard deviation is', sigma_pres4)\n",
        "std_separation_of_data_pres = abs(mu_pres4 - mu_pres2)/sigma_pres2\n",
        "print('The standard deviation separation is', std_separation_of_data_pres)"
      ],
      "metadata": {
        "id": "DrP_fSyeQycy"
      },
      "execution_count": null,
      "outputs": []
    },
    {
      "cell_type": "code",
      "source": [
        "plt.ion()\n",
        "fig1 = plt.figure(1, figsize = (10,5))\n",
        "ax1 = fig1.add_subplot()\n",
        "fig1.canvas.draw()\n",
        "\n",
        "mu_alt4 = np.mean(Outdoor_data2['altitude'])\n",
        "sigma_alt4 = np.std(Outdoor_data2['altitude'])\n",
        "x_alt4 = np.linspace(mu_alt4 - 5*sigma_alt4, mu_alt4 + 5*sigma_alt4, 1000)\n",
        "y_alt4 = norm.pdf(x_alt4, mu_alt4, sigma_alt4)\n",
        "\n",
        "ax1.plot(x_alt2,y_alt2)\n",
        "ax1.plot(x_alt4,y_alt4)\n",
        "ax1.hist(Outdoor_data['altitude'], label='My Outdoor data', bins = 43, density = True)\n",
        "ax1.hist(Outdoor_data2['altitude'], label='Other groups Outdoor data', bins = 35, density = True)\n",
        "ax1.set_ylabel('Frequency')\n",
        "ax1.set_xlabel('Altitude')\n",
        "ax1.legend()"
      ],
      "metadata": {
        "id": "KifbDCbqphoU"
      },
      "execution_count": null,
      "outputs": []
    },
    {
      "cell_type": "code",
      "source": [
        "print('The Outdoor altitude mean is',mu_alt2)\n",
        "Outdoor_mean_uncertainty_alt = sigma_alt2/math.sqrt(len(Outdoor_data))\n",
        "print('The Outdoor altitude mean uncertainty is', Outdoor_mean_uncertainty_alt)\n",
        "\n",
        "print('The other groups Outdoor altitude mean is', mu_alt4)\n",
        "Other_Outdoor_mean_uncertainty_alt = sigma_alt4/math.sqrt(len(Outdoor_data2))\n",
        "print('The other groups Outdoor altitude mean uncertainty is', Other_Outdoor_mean_uncertainty_alt)\n",
        "\n",
        "print('The Outdoor altitude standard deviation is', sigma_alt2)\n",
        "print('The other groups Outdoor altitude standard deviation is', sigma_alt4)\n",
        "std_separation_of_data_alt = abs(mu_alt4 - mu_alt2)/sigma_alt2\n",
        "print('The standard deviation separation is', std_separation_of_data_alt)"
      ],
      "metadata": {
        "id": "Ejhnm3sLRRb6"
      },
      "execution_count": null,
      "outputs": []
    },
    {
      "cell_type": "code",
      "source": [
        "plt.ion()\n",
        "fig1 = plt.figure(1, figsize = (10,5))\n",
        "ax1 = fig1.add_subplot()\n",
        "fig1.canvas.draw()\n",
        "\n",
        "mu_ga4 = np.mean(Outdoor_data2['gas'])\n",
        "sigma_ga4 = np.std(Outdoor_data2['gas'])\n",
        "x_ga4 = np.linspace(mu_ga4 - 5*sigma_ga4, mu_ga4 + 5*sigma_ga4, 1000)\n",
        "y_ga4 = norm.pdf(x_ga4, mu_ga4, sigma_ga4)\n",
        "\n",
        "ax1.plot(x_ga2,y_ga2)\n",
        "ax1.plot(x_ga4,y_ga4)\n",
        "ax1.hist(Outdoor_data['gas'], label='My Outdoor data', bins = 42, density = True)\n",
        "ax1.hist(Outdoor_data2['gas'], label='Other groups Outdoor data', bins = 42, density = True)\n",
        "ax1.set_ylabel('Frequency')\n",
        "ax1.set_xlabel('Gas')\n",
        "ax1.legend()"
      ],
      "metadata": {
        "id": "ROQsT-_dkycn"
      },
      "execution_count": null,
      "outputs": []
    },
    {
      "cell_type": "code",
      "source": [
        "print('The Outdoor gas mean is',mu_ga2)\n",
        "Outdoor_mean_uncertainty_ga = sigma_ga2/math.sqrt(len(Outdoor_data))\n",
        "print('The Outdoor gas mean uncertainty is', Outdoor_mean_uncertainty_ga)\n",
        "\n",
        "print('The other groups Outdoor gas mean is', mu_ga4)\n",
        "Other_Outdoor_mean_uncertainty_ga = sigma_ga4/math.sqrt(len(Outdoor_data2))\n",
        "print('The other groups Outdoor gas mean uncertainty is', Other_Outdoor_mean_uncertainty_ga)\n",
        "\n",
        "print('The Outdoor gas standard deviation is', sigma_ga2)\n",
        "print('The other groups Outdoor gas standard deviation is', sigma_ga4)\n",
        "std_separation_of_data_ga = abs(mu_ga4 - mu_ga2)/sigma_ga2\n",
        "print('The standard deviation separation is', std_separation_of_data_ga)"
      ],
      "metadata": {
        "id": "O79tHcNnSCHk"
      },
      "execution_count": null,
      "outputs": []
    },
    {
      "cell_type": "code",
      "source": [
        "# Extra: Correlation in Data, use indoor data\n",
        "Indoor_data.plot('temperature', 'relative humility')"
      ],
      "metadata": {
        "id": "TVvVId4xBSEp"
      },
      "execution_count": null,
      "outputs": []
    },
    {
      "cell_type": "markdown",
      "source": [
        "Temperature and humidity are negatively correlated in the indoor data. As temperature increases, humidity decreases, except for a spike at 22.8 degrees. We might quanitfy this by fitting a linear regression line through the plot and see how each point varies. "
      ],
      "metadata": {
        "id": "Vp4nVbqaLchu"
      }
    },
    {
      "cell_type": "code",
      "source": [
        "Indoor_data.plot('temperature', 'pressure')"
      ],
      "metadata": {
        "id": "u-fx71KlJGal"
      },
      "execution_count": null,
      "outputs": []
    },
    {
      "cell_type": "markdown",
      "source": [
        "The comparison for temperature and pressure is less linear than the previous comparison. "
      ],
      "metadata": {
        "id": "p_dk0VnoMVW4"
      }
    },
    {
      "cell_type": "code",
      "source": [
        "Indoor_data.plot('temperature', 'gas')\n",
        "Indoor_data.plot('temperature', 'altitude')\n",
        "\n",
        "Indoor_data.plot('temperature', 'PM2.5')"
      ],
      "metadata": {
        "id": "mmW9yAKGM1oz"
      },
      "execution_count": null,
      "outputs": []
    },
    {
      "cell_type": "markdown",
      "source": [
        "The PM2.5 is a little different because it has chucks of data and is not linear. "
      ],
      "metadata": {
        "id": "v32ErJ_kTBPi"
      }
    }
  ]
}